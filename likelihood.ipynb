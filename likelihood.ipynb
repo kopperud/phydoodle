{
 "cells": [
  {
   "cell_type": "code",
   "execution_count": 1,
   "metadata": {},
   "outputs": [
    {
     "name": "stderr",
     "output_type": "stream",
     "text": [
      "WARNING: Method definition midpoints(Base.Range{T} where T) in module Base at deprecated.jl:56 overwritten in module StatsBase at /home/bjorn/.julia/v0.6/StatsBase/src/hist.jl:535.\n",
      "WARNING: Method definition midpoints(AbstractArray{T, 1} where T) in module Base at deprecated.jl:56 overwritten in module StatsBase at /home/bjorn/.julia/v0.6/StatsBase/src/hist.jl:533.\n"
     ]
    }
   ],
   "source": [
    "using Phylo\n",
    "using BioSequences"
   ]
  },
  {
   "cell_type": "code",
   "execution_count": 2,
   "metadata": {},
   "outputs": [],
   "source": [
    "f = open(\"dna.txt\");\n",
    "s = readlines(f)\n",
    "close(f)\n"
   ]
  },
  {
   "cell_type": "code",
   "execution_count": null,
   "metadata": {},
   "outputs": [],
   "source": []
  },
  {
   "cell_type": "code",
   "execution_count": 3,
   "metadata": {},
   "outputs": [
    {
     "data": {
      "text/plain": [
       "Dict{SubString{String},BioSequences.BioSequence{BioSequences.DNAAlphabet{4}}} with 11 entries:\n",
       "  \"U09126\"   => GAGGGGATACAGAGGAATTGGAAACAATGGTGGATATGGGGCATC\n",
       "  \"U067158\"  => AGGGGGACACTGAGGAATTATCAACAATGGTGGATATGGGGCGTC\n",
       "  \"L20571\"   => AAAGTAATGAAGAAGAACAACAGGAAGTCATGGAGCTTATACATA\n",
       "  \"U27399\"   => AGGGAGATGAGGAGGAATTGTCAGCATTTGTGGGGATGGGGCACC\n",
       "  \"AF025763\" => AAGGGGATCAGGAAGAATTGTCAGCACTTGTGGAGATGGGGCATG\n",
       "  \"U43386\"   => AGGGAGATGCAGAGGAATTATCAGCATTTATGGAAATGGGGCATC\n",
       "  \"L02317\"   => AAGGAGATCAGGAAGAATTATCAGCACTTGTGGAGATGGGGCACC\n",
       "  \"U08443\"   => AAGGAGATGAGGAAGCATTGTCAGCACTTATGGAGAGGGGGCACC\n",
       "  \"AF042106\" => AAGGGGATCAGGAAGAATTATCGGCACTTGTGGACATGGGGCACC\n",
       "  \"U27445\"   => AAGGGGATACGGACGAATTGGCAACACTTCTGGAGATGGGGAACT\n",
       "  \"U09127\"   => ATGGGGATAGAGAGGAATTATCCTTGCTGGTGGACATGGGGGATT"
      ]
     },
     "execution_count": 3,
     "metadata": {},
     "output_type": "execute_result"
    }
   ],
   "source": [
    "d = [split(x) for x in s if x != \"\"]\n",
    "dna = Dict(x[1] => convert(DNASequence, x[2]) for x in d)"
   ]
  },
  {
   "cell_type": "code",
   "execution_count": null,
   "metadata": {},
   "outputs": [],
   "source": []
  },
  {
   "cell_type": "code",
   "execution_count": 4,
   "metadata": {},
   "outputs": [
    {
     "data": {
      "text/plain": [
       "Phylo.Nonultrametric{Phylo.BinaryTree{Phylo.LeafInfo,Void},Distributions.Exponential}(11, String[\"U09126\", \"U067158\", \"L20571\", \"U27399\", \"AF025763\", \"U43386\", \"L02317\", \"U08443\", \"AF042106\", \"U27445\", \"U09127\"], Distributions.Exponential{Float64}(θ=1.0))"
      ]
     },
     "execution_count": 4,
     "metadata": {},
     "output_type": "execute_result"
    }
   ],
   "source": [
    "tiplabels = convert(Array{String}, collect(keys(dna)))\n",
    "treegen = Nonultrametric(tiplabels)"
   ]
  },
  {
   "cell_type": "code",
   "execution_count": 5,
   "metadata": {},
   "outputs": [
    {
     "data": {
      "text/plain": [
       "NamedTree phylogenetic tree with 21 nodes and 20 branches\n",
       "Leaf names:\n",
       "String[\"U09126\", \"U067158\", \"L20571\", \"U27399\", \"AF025763\", \"U43386\", \"L02317\", \"U08443\", \"AF042106\", \"U27445\", \"U09127\"]"
      ]
     },
     "execution_count": 5,
     "metadata": {},
     "output_type": "execute_result"
    }
   ],
   "source": [
    "tree = rand(treegen)"
   ]
  },
  {
   "cell_type": "code",
   "execution_count": null,
   "metadata": {},
   "outputs": [],
   "source": []
  },
  {
   "cell_type": "code",
   "execution_count": 33,
   "metadata": {},
   "outputs": [
    {
     "data": {
      "text/plain": [
       "ratematrix (generic function with 1 method)"
      ]
     },
     "execution_count": 33,
     "metadata": {},
     "output_type": "execute_result"
    }
   ],
   "source": [
    "# Instantaneous rate matrix\n",
    "# Jukes-Cantor model\n",
    "\n",
    "function ratematrix(µ)\n",
    "    Q = µ .* [-0.75 0.25 0.25 0.25; 0.25 -0.75 0.25 0.25; 0.25 0.25 -0.75 0.25; 0.25 0.25 0.25 -0.75]\n",
    "    return(Hermitian(Q))\n",
    "end"
   ]
  },
  {
   "cell_type": "code",
   "execution_count": null,
   "metadata": {},
   "outputs": [],
   "source": []
  },
  {
   "cell_type": "code",
   "execution_count": 43,
   "metadata": {},
   "outputs": [
    {
     "name": "stdout",
     "output_type": "stream",
     "text": [
      "  0.000240 seconds (53 allocations: 5.328 KiB)\n"
     ]
    },
    {
     "data": {
      "text/plain": [
       "4×4 Array{Float64,2}:\n",
       " 0.876453   0.0411824  0.0411824  0.0411824\n",
       " 0.0411824  0.876453   0.0411824  0.0411824\n",
       " 0.0411824  0.0411824  0.876453   0.0411824\n",
       " 0.0411824  0.0411824  0.0411824  0.876453 "
      ]
     },
     "execution_count": 43,
     "metadata": {},
     "output_type": "execute_result"
    }
   ],
   "source": [
    "Q = ratematrix(0.9) # Instantaneous rate matrix\n",
    "t = 0.2 # Time interval (units?)\n",
    "\n",
    "@time expm(Q .* t)"
   ]
  },
  {
   "cell_type": "code",
   "execution_count": 44,
   "metadata": {},
   "outputs": [
    {
     "data": {
      "text/plain": [
       "Dict{BioSymbols.DNA,Int64} with 4 entries:\n",
       "  DNA_G => 4\n",
       "  DNA_A => 1\n",
       "  DNA_T => 2\n",
       "  DNA_C => 3"
      ]
     },
     "execution_count": 44,
     "metadata": {},
     "output_type": "execute_result"
    }
   ],
   "source": [
    "nucleotides = convert(DNASequence, \"ATCG\")\n",
    "base_to_idx = Dict(base => i for (i, base) in zip(1:4, nucleotides))\n",
    "\n",
    "\n",
    "# Transition probability P\n",
    "# ATCG\n",
    "#P = expm(Q .* t)\n",
    "\n",
    "#transition(Q, 0.2, DNA_G, DNA_C)"
   ]
  },
  {
   "cell_type": "code",
   "execution_count": null,
   "metadata": {},
   "outputs": [],
   "source": [
    "\n"
   ]
  },
  {
   "cell_type": "code",
   "execution_count": null,
   "metadata": {},
   "outputs": [],
   "source": []
  },
  {
   "cell_type": "code",
   "execution_count": 45,
   "metadata": {},
   "outputs": [
    {
     "data": {
      "text/plain": [
       "transition (generic function with 1 method)"
      ]
     },
     "execution_count": 45,
     "metadata": {},
     "output_type": "execute_result"
    }
   ],
   "source": [
    "#function transition(Q, t, \n",
    "#        base_in::BioSequences.BioSequence{BioSequences.DNAAlphabet{4}}, \n",
    "#        base_out::BioSequences.BioSequence{BioSequences.DNAAlphabet{4}})\n",
    "#    Pm = expm(Q .* t)\n",
    "#    \n",
    "#    P = [Pm[base_to_idx[s], base_to_idx[x]] for (s, x) in zip(base_in, base_out)]\n",
    "#    return(P)\n",
    "#end\n",
    "\n",
    "\n",
    "function transition(Q, \n",
    "        t, \n",
    "        base_in::BioSymbols.DNA, \n",
    "        base_out::BioSymbols.DNA)\n",
    "    Pm = expm(Q .* t)\n",
    "    \n",
    "    #P = [Pm[base_to_idx[s], base_to_idx[x]] for (s, x) in zip(base_in, base_out)]\n",
    "    P = Pm[base_to_idx[base_in], \n",
    "        base_to_idx[base_out]]\n",
    "    return(P)\n",
    "end"
   ]
  },
  {
   "cell_type": "code",
   "execution_count": 46,
   "metadata": {},
   "outputs": [
    {
     "data": {
      "text/plain": [
       "BioSymbols.DNA"
      ]
     },
     "execution_count": 46,
     "metadata": {},
     "output_type": "execute_result"
    }
   ],
   "source": [
    "typeof(DNA_C)"
   ]
  },
  {
   "cell_type": "code",
   "execution_count": null,
   "metadata": {},
   "outputs": [],
   "source": []
  },
  {
   "cell_type": "code",
   "execution_count": null,
   "metadata": {},
   "outputs": [],
   "source": []
  },
  {
   "cell_type": "code",
   "execution_count": 89,
   "metadata": {},
   "outputs": [
    {
     "name": "stdout",
     "output_type": "stream",
     "text": [
      "[0.0756874]\n",
      "  0.000122 seconds (33 allocations: 4.297 KiB)\n"
     ]
    },
    {
     "data": {
      "text/html": [
       "0.007339697055200989"
      ],
      "text/plain": [
       "0.007339697055200989"
      ]
     },
     "execution_count": 89,
     "metadata": {},
     "output_type": "execute_result"
    }
   ],
   "source": [
    "bl = rand(1)\n",
    "Q = ratematrix(rand(1))\n",
    "\n",
    "println(bl)\n",
    "@time transition(Q, 0.2, DNA_C, DNA_T)"
   ]
  },
  {
   "cell_type": "code",
   "execution_count": 13,
   "metadata": {},
   "outputs": [
    {
     "name": "stdout",
     "output_type": "stream",
     "text": [
      "0.04118244714718208\n",
      "0.8764526585584541\n",
      "0.041182447147182055\n",
      "0.041182447147182166\n"
     ]
    },
    {
     "data": {
      "text/html": [
       "1.0000000000000004"
      ],
      "text/plain": [
       "1.0000000000000004"
      ]
     },
     "execution_count": 13,
     "metadata": {},
     "output_type": "execute_result"
    }
   ],
   "source": [
    "p_sum = 0\n",
    "for x in keys(base_to_idx)\n",
    "    p = transition(Q, 0.2, DNA_A, x)\n",
    "    println(p)\n",
    "    p_sum += p\n",
    "end\n",
    "\n",
    "p_sum"
   ]
  },
  {
   "cell_type": "code",
   "execution_count": null,
   "metadata": {},
   "outputs": [],
   "source": []
  },
  {
   "cell_type": "code",
   "execution_count": null,
   "metadata": {},
   "outputs": [],
   "source": [
    "\n"
   ]
  },
  {
   "cell_type": "code",
   "execution_count": null,
   "metadata": {},
   "outputs": [],
   "source": []
  },
  {
   "cell_type": "code",
   "execution_count": null,
   "metadata": {},
   "outputs": [],
   "source": []
  },
  {
   "cell_type": "code",
   "execution_count": 90,
   "metadata": {},
   "outputs": [],
   "source": [
    "n = length(collect(values(dna))[1])\n",
    "alignment = Array{BioSymbols.DNA, 2}(length(dna), n)\n",
    "\n",
    "\n",
    "for (row, sequence) in enumerate(values(dna))\n",
    "    alignment[row,:] = [x for x in sequence]\n",
    "end\n",
    "\n",
    "freq = zeros(length(nucleotides), n)\n",
    "\n",
    "for site_i in 1:size(alignment, 2)\n",
    "    for (i, nucleotide) in enumerate(nucleotides)\n",
    "        m = sum(x == nucleotide for x in alignment[:,site_i])/n\n",
    "        freq[i, site_i] = m\n",
    "    end\n",
    "end"
   ]
  },
  {
   "cell_type": "code",
   "execution_count": null,
   "metadata": {},
   "outputs": [],
   "source": []
  },
  {
   "cell_type": "code",
   "execution_count": 127,
   "metadata": {},
   "outputs": [
    {
     "name": "stdout",
     "output_type": "stream",
     "text": [
      "search: \u001b[1mH\u001b[22m\u001b[1me\u001b[22m\u001b[1mr\u001b[22m\u001b[1mm\u001b[22m\u001b[1mi\u001b[22m\u001b[1mt\u001b[22m\u001b[1mi\u001b[22m\u001b[1ma\u001b[22m\u001b[1mn\u001b[22m is\u001b[1mh\u001b[22m\u001b[1me\u001b[22m\u001b[1mr\u001b[22m\u001b[1mm\u001b[22m\u001b[1mi\u001b[22m\u001b[1mt\u001b[22m\u001b[1mi\u001b[22m\u001b[1ma\u001b[22m\u001b[1mn\u001b[22m\n",
      "\n"
     ]
    },
    {
     "data": {
      "text/markdown": [
       "```\n",
       "Hermitian(A, uplo=:U)\n",
       "```\n",
       "\n",
       "Construct a `Hermitian` view of the upper (if `uplo = :U`) or lower (if `uplo = :L`) triangle of the matrix `A`.\n",
       "\n",
       "# Example\n",
       "\n",
       "```jldoctest\n",
       "julia> A = [1 0 2+2im 0 3-3im; 0 4 0 5 0; 6-6im 0 7 0 8+8im; 0 9 0 1 0; 2+2im 0 3-3im 0 4];\n",
       "\n",
       "julia> Hupper = Hermitian(A)\n",
       "5×5 Hermitian{Complex{Int64},Array{Complex{Int64},2}}:\n",
       " 1+0im  0+0im  2+2im  0+0im  3-3im\n",
       " 0+0im  4+0im  0+0im  5+0im  0+0im\n",
       " 2-2im  0+0im  7+0im  0+0im  8+8im\n",
       " 0+0im  5+0im  0+0im  1+0im  0+0im\n",
       " 3+3im  0+0im  8-8im  0+0im  4+0im\n",
       "\n",
       "julia> Hlower = Hermitian(A, :L)\n",
       "5×5 Hermitian{Complex{Int64},Array{Complex{Int64},2}}:\n",
       " 1+0im  0+0im  6+6im  0+0im  2-2im\n",
       " 0+0im  4+0im  0+0im  9+0im  0+0im\n",
       " 6-6im  0+0im  7+0im  0+0im  3+3im\n",
       " 0+0im  9+0im  0+0im  1+0im  0+0im\n",
       " 2+2im  0+0im  3-3im  0+0im  4+0im\n",
       "```\n",
       "\n",
       "Note that `Hupper` will not be equal to `Hlower` unless `A` is itself Hermitian (e.g. if `A == A'`).\n"
      ],
      "text/plain": [
       "```\n",
       "Hermitian(A, uplo=:U)\n",
       "```\n",
       "\n",
       "Construct a `Hermitian` view of the upper (if `uplo = :U`) or lower (if `uplo = :L`) triangle of the matrix `A`.\n",
       "\n",
       "# Example\n",
       "\n",
       "```jldoctest\n",
       "julia> A = [1 0 2+2im 0 3-3im; 0 4 0 5 0; 6-6im 0 7 0 8+8im; 0 9 0 1 0; 2+2im 0 3-3im 0 4];\n",
       "\n",
       "julia> Hupper = Hermitian(A)\n",
       "5×5 Hermitian{Complex{Int64},Array{Complex{Int64},2}}:\n",
       " 1+0im  0+0im  2+2im  0+0im  3-3im\n",
       " 0+0im  4+0im  0+0im  5+0im  0+0im\n",
       " 2-2im  0+0im  7+0im  0+0im  8+8im\n",
       " 0+0im  5+0im  0+0im  1+0im  0+0im\n",
       " 3+3im  0+0im  8-8im  0+0im  4+0im\n",
       "\n",
       "julia> Hlower = Hermitian(A, :L)\n",
       "5×5 Hermitian{Complex{Int64},Array{Complex{Int64},2}}:\n",
       " 1+0im  0+0im  6+6im  0+0im  2-2im\n",
       " 0+0im  4+0im  0+0im  9+0im  0+0im\n",
       " 6-6im  0+0im  7+0im  0+0im  3+3im\n",
       " 0+0im  9+0im  0+0im  1+0im  0+0im\n",
       " 2+2im  0+0im  3-3im  0+0im  4+0im\n",
       "```\n",
       "\n",
       "Note that `Hupper` will not be equal to `Hlower` unless `A` is itself Hermitian (e.g. if `A == A'`).\n"
      ]
     },
     "execution_count": 127,
     "metadata": {},
     "output_type": "execute_result"
    }
   ],
   "source": [
    "?Hermitian"
   ]
  },
  {
   "cell_type": "code",
   "execution_count": null,
   "metadata": {},
   "outputs": [],
   "source": []
  },
  {
   "cell_type": "code",
   "execution_count": 125,
   "metadata": {},
   "outputs": [
    {
     "data": {
      "text/html": [
       "128"
      ],
      "text/plain": [
       "128"
      ]
     },
     "execution_count": 125,
     "metadata": {},
     "output_type": "execute_result"
    }
   ],
   "source": [
    "sizeof(zeros(Float64, 4, 4))"
   ]
  },
  {
   "cell_type": "code",
   "execution_count": 126,
   "metadata": {},
   "outputs": [
    {
     "data": {
      "text/html": [
       "16"
      ],
      "text/plain": [
       "16"
      ]
     },
     "execution_count": 126,
     "metadata": {},
     "output_type": "execute_result"
    }
   ],
   "source": [
    "#expm(Q)\n",
    "sizeof(Q)"
   ]
  },
  {
   "cell_type": "code",
   "execution_count": 91,
   "metadata": {},
   "outputs": [
    {
     "data": {
      "text/plain": [
       "L (generic function with 1 method)"
      ]
     },
     "execution_count": 91,
     "metadata": {},
     "output_type": "execute_result"
    }
   ],
   "source": [
    "n = length(collect(values(dna))[1])\n",
    "#DNA_alphabet = [convert(DNASequence, nucleotide ^ n) for nucleotide in ['A', 'T', 'C', 'G']]\n",
    "\n",
    "function loglikelihood(tree, freq, Q)\n",
    "    rootname = collect(keys(tree.nodes))[end]\n",
    "    root = getnode(tree, rootname)\n",
    "    branches = getbranches(tree)\n",
    "\n",
    "    \n",
    "    result = zeros(Float64, length(nucleotides), n)\n",
    "\n",
    "    for (i, x) in enumerate(nucleotides)\n",
    "        #println(x)\n",
    "        result[i,:] = L(x, root, tree, Q, branches)\n",
    "    end\n",
    "\n",
    "    logL = sum(log.(sum(result .* freq, 1)))\n",
    "    return(logL)\n",
    "end\n",
    "\n",
    "## Felsenstein pruning algorithm\n",
    "## Recursive, start at putative \"root\". For time-reversible models, position\n",
    "## of root does not matter, as L is the same\n",
    "\n",
    "## Vectorized for DNA sequence of length >= 1\n",
    "function L(s, node, tree, Q, branches)\n",
    "    if isleaf(node)\n",
    "        nodename = branches[node.inbound].destination\n",
    "        tip_sequence = dna[nodename]\n",
    "\n",
    "        res = [s == x for x in tip_sequence]\n",
    "        return(res)\n",
    "    else\n",
    "        res = zeros(Float64, n, length(node.outbounds))\n",
    "\n",
    "        for (i, node_idx) in enumerate(node.outbounds)\n",
    "            branch = branches[node_idx]\n",
    "            node = getnode(tree, branch.destination)\n",
    "\n",
    "            P = zeros(Float64, n, 4)\n",
    "            for (ii, x) in enumerate(nucleotides)\n",
    "                p = transition(Q, branch.length, s, x)\n",
    "                l = L(x, node, tree, Q, branches)\n",
    "\n",
    "                P[:,ii] = p .* l\n",
    "                \n",
    "            end\n",
    "            res[:,i] = reshape(sum(P, 2), n)\n",
    "        end\n",
    "        #println(res)\n",
    "        return(prod(res, 2))\n",
    "    end\n",
    "end\n"
   ]
  },
  {
   "cell_type": "code",
   "execution_count": null,
   "metadata": {},
   "outputs": [],
   "source": []
  },
  {
   "cell_type": "code",
   "execution_count": 95,
   "metadata": {},
   "outputs": [
    {
     "name": "stdout",
     "output_type": "stream",
     "text": [
      "  0.772462 seconds (1.35 M allocations: 110.846 MiB, 2.38% gc time)\n"
     ]
    },
    {
     "data": {
      "text/html": [
       "-452.6529749951561"
      ],
      "text/plain": [
       "-452.6529749951561"
      ]
     },
     "execution_count": 95,
     "metadata": {},
     "output_type": "execute_result"
    }
   ],
   "source": [
    "res = @time @profile loglikelihood(tree, freq, Q)\n",
    "#res = @time foo()"
   ]
  },
  {
   "cell_type": "code",
   "execution_count": 96,
   "metadata": {},
   "outputs": [],
   "source": [
    "#Profile.print()"
   ]
  },
  {
   "cell_type": "code",
   "execution_count": 104,
   "metadata": {},
   "outputs": [
    {
     "data": {
      "text/plain": [
       "10-element Array{Phylo.BinaryTree{Phylo.LeafInfo,Void},1}:\n",
       " NamedTree phylogenetic tree with 21 nodes (11 leaves) and 20 branches\n",
       " NamedTree phylogenetic tree with 21 nodes (11 leaves) and 20 branches\n",
       " NamedTree phylogenetic tree with 21 nodes (11 leaves) and 20 branches\n",
       " NamedTree phylogenetic tree with 21 nodes (11 leaves) and 20 branches\n",
       " NamedTree phylogenetic tree with 21 nodes (11 leaves) and 20 branches\n",
       " NamedTree phylogenetic tree with 21 nodes (11 leaves) and 20 branches\n",
       " NamedTree phylogenetic tree with 21 nodes (11 leaves) and 20 branches\n",
       " NamedTree phylogenetic tree with 21 nodes (11 leaves) and 20 branches\n",
       " NamedTree phylogenetic tree with 21 nodes (11 leaves) and 20 branches\n",
       " NamedTree phylogenetic tree with 21 nodes (11 leaves) and 20 branches"
      ]
     },
     "execution_count": 104,
     "metadata": {},
     "output_type": "execute_result"
    }
   ],
   "source": [
    "trees = [rand(treegen) for x in 1:10];"
   ]
  },
  {
   "cell_type": "code",
   "execution_count": 121,
   "metadata": {},
   "outputs": [
    {
     "name": "stderr",
     "output_type": "stream",
     "text": [
      "\u001b[32mProgress:  90%|█████████████████████████████████████    |  ETA: 0:00:02\u001b[39m"
     ]
    },
    {
     "name": "stdout",
     "output_type": "stream",
     "text": [
      " 27.886408 seconds (56.36 M allocations: 4.535 GiB, 2.72% gc time)\n"
     ]
    },
    {
     "name": "stderr",
     "output_type": "stream",
     "text": [
      "\r",
      "\u001b[32mProgress: 100%|█████████████████████████████████████████| Time: 0:00:28\u001b[39m\n"
     ]
    }
   ],
   "source": [
    "using ProgressMeter\n",
    "res = []\n",
    "\n",
    "@time @showprogress 1 for tree in trees\n",
    "    logL = loglikelihood(tree, freq, Q)\n",
    "    #logL = foo()\n",
    "    append!(res, logL)\n",
    "end"
   ]
  },
  {
   "cell_type": "code",
   "execution_count": 120,
   "metadata": {},
   "outputs": [
    {
     "name": "stdout",
     "output_type": "stream",
     "text": [
      "  8.851803 seconds (17.97 M allocations: 1.446 GiB, 2.71% gc time)\n"
     ]
    },
    {
     "data": {
      "text/html": [
       "-469.2890942083639"
      ],
      "text/plain": [
       "-469.2890942083639"
      ]
     },
     "execution_count": 120,
     "metadata": {},
     "output_type": "execute_result"
    }
   ],
   "source": [
    "tr = rand(treegen)\n",
    "@time loglikelihood(tr, freq, Q)"
   ]
  },
  {
   "cell_type": "code",
   "execution_count": 643,
   "metadata": {},
   "outputs": [
    {
     "name": "stdout",
     "output_type": "stream",
     "text": [
      "BioSequences.BioSequence{BioSequences.DNAAlphabet{4}}\n",
      "Phylo.BinaryTree{Phylo.LeafInfo,Void}\n",
      "Array{Float64,2}\n",
      "Array{Float64,2}\n",
      "Phylo.BinaryNode{Int64}\n"
     ]
    }
   ],
   "source": [
    "for x in [DNA_alphabet[1], tree, Q, freq, node]\n",
    "    println(typeof(x))\n",
    "end"
   ]
  },
  {
   "cell_type": "code",
   "execution_count": null,
   "metadata": {
    "scrolled": false
   },
   "outputs": [],
   "source": []
  },
  {
   "cell_type": "code",
   "execution_count": null,
   "metadata": {},
   "outputs": [],
   "source": []
  },
  {
   "cell_type": "code",
   "execution_count": null,
   "metadata": {},
   "outputs": [],
   "source": []
  },
  {
   "cell_type": "code",
   "execution_count": null,
   "metadata": {},
   "outputs": [],
   "source": []
  },
  {
   "cell_type": "code",
   "execution_count": null,
   "metadata": {},
   "outputs": [],
   "source": []
  },
  {
   "cell_type": "code",
   "execution_count": 112,
   "metadata": {},
   "outputs": [
    {
     "data": {
      "text/html": [
       "40"
      ],
      "text/plain": [
       "40"
      ]
     },
     "execution_count": 112,
     "metadata": {},
     "output_type": "execute_result"
    }
   ],
   "source": [
    "sizeof(tree)"
   ]
  },
  {
   "cell_type": "code",
   "execution_count": 114,
   "metadata": {},
   "outputs": [
    {
     "data": {
      "text/plain": [
       "Phylo.BinaryTree{Phylo.LeafInfo,Void}"
      ]
     },
     "execution_count": 114,
     "metadata": {},
     "output_type": "execute_result"
    }
   ],
   "source": [
    "typeof(tree)"
   ]
  },
  {
   "cell_type": "code",
   "execution_count": 115,
   "metadata": {},
   "outputs": [
    {
     "data": {
      "text/html": [
       "40"
      ],
      "text/plain": [
       "40"
      ]
     },
     "execution_count": 115,
     "metadata": {},
     "output_type": "execute_result"
    }
   ],
   "source": [
    "sizeof(Phylo.BinaryTree{Phylo.LeafInfo,Void})"
   ]
  },
  {
   "cell_type": "code",
   "execution_count": null,
   "metadata": {},
   "outputs": [],
   "source": []
  },
  {
   "cell_type": "code",
   "execution_count": null,
   "metadata": {},
   "outputs": [],
   "source": []
  },
  {
   "cell_type": "code",
   "execution_count": null,
   "metadata": {},
   "outputs": [],
   "source": []
  },
  {
   "cell_type": "code",
   "execution_count": null,
   "metadata": {},
   "outputs": [],
   "source": []
  }
 ],
 "metadata": {
  "kernelspec": {
   "display_name": "Julia 0.6.2",
   "language": "julia",
   "name": "julia-0.6"
  },
  "language_info": {
   "file_extension": ".jl",
   "mimetype": "application/julia",
   "name": "julia",
   "version": "0.6.2"
  }
 },
 "nbformat": 4,
 "nbformat_minor": 2
}
