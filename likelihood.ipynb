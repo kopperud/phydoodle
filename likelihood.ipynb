{
 "cells": [
  {
   "cell_type": "code",
   "execution_count": 1,
   "metadata": {},
   "outputs": [
    {
     "name": "stderr",
     "output_type": "stream",
     "text": [
      "\u001b[1m\u001b[36mINFO: \u001b[39m\u001b[22m\u001b[36mRecompiling stale cache file C:\\Users\\bjorn\\.julia\\lib\\v0.6\\PhyloTrees.ji for module PhyloTrees.\n",
      "\u001b[39m"
     ]
    }
   ],
   "source": [
    "using PhyloTrees\n",
    "using BioSequences\n",
    "using Plots\n",
    "using Distributions\n",
    "using SubstitutionModels"
   ]
  },
  {
   "cell_type": "code",
   "execution_count": 2,
   "metadata": {},
   "outputs": [],
   "source": [
    "f = open(\"dna.txt\");\n",
    "s = readlines(f)\n",
    "close(f)\n"
   ]
  },
  {
   "cell_type": "code",
   "execution_count": null,
   "metadata": {},
   "outputs": [],
   "source": []
  },
  {
   "cell_type": "code",
   "execution_count": 3,
   "metadata": {},
   "outputs": [
    {
     "data": {
      "text/plain": [
       "Dict{SubString{String},BioSequences.BioSequence{BioSequences.DNAAlphabet{4}}} with 11 entries:\n",
       "  \"U09126\"   => GAGGGGATACAGAGGAATTGGAAACAATGGTGGATATGGGGCATC\n",
       "  \"U067158\"  => AGGGGGACACTGAGGAATTATCAACAATGGTGGATATGGGGCGTC\n",
       "  \"L20571\"   => AAAGTAATGAAGAAGAACAACAGGAAGTCATGGAGCTTATACATA\n",
       "  \"U27399\"   => AGGGAGATGAGGAGGAATTGTCAGCATTTGTGGGGATGGGGCACC\n",
       "  \"AF025763\" => AAGGGGATCAGGAAGAATTGTCAGCACTTGTGGAGATGGGGCATG\n",
       "  \"U43386\"   => AGGGAGATGCAGAGGAATTATCAGCATTTATGGAAATGGGGCATC\n",
       "  \"L02317\"   => AAGGAGATCAGGAAGAATTATCAGCACTTGTGGAGATGGGGCACC\n",
       "  \"U08443\"   => AAGGAGATGAGGAAGCATTGTCAGCACTTATGGAGAGGGGGCACC\n",
       "  \"AF042106\" => AAGGGGATCAGGAAGAATTATCGGCACTTGTGGACATGGGGCACC\n",
       "  \"U27445\"   => AAGGGGATACGGACGAATTGGCAACACTTCTGGAGATGGGGAACT\n",
       "  \"U09127\"   => ATGGGGATAGAGAGGAATTATCCTTGCTGGTGGACATGGGGGATT"
      ]
     },
     "execution_count": 3,
     "metadata": {},
     "output_type": "execute_result"
    }
   ],
   "source": [
    "d = [split(x) for x in s if x != \"\"]\n",
    "dna = Dict(x[1] => convert(DNASequence, x[2]) for x in d)"
   ]
  },
  {
   "cell_type": "code",
   "execution_count": null,
   "metadata": {},
   "outputs": [],
   "source": []
  },
  {
   "cell_type": "code",
   "execution_count": null,
   "metadata": {},
   "outputs": [],
   "source": []
  },
  {
   "cell_type": "code",
   "execution_count": 5,
   "metadata": {},
   "outputs": [
    {
     "data": {
      "text/plain": [
       "treerand (generic function with 3 methods)"
      ]
     },
     "execution_count": 5,
     "metadata": {},
     "output_type": "execute_result"
    }
   ],
   "source": [
    "function treerand(n::Int64 = 5, d = LogNormal(1.0, 1.0))\n",
    "    tree = Tree()\n",
    "    addnode!(tree)\n",
    "\n",
    "    for i in 1:n\n",
    "        t = rand(d, 2)\n",
    "        branch!(tree, i, t[1])\n",
    "        branch!(tree, i, t[2])\n",
    "    end\n",
    "    return(tree)\n",
    "end"
   ]
  },
  {
   "cell_type": "code",
   "execution_count": 588,
   "metadata": {},
   "outputs": [
    {
     "data": {
      "image/svg+xml": [
       "<?xml version=\"1.0\" encoding=\"utf-8\"?>\n",
       "<svg xmlns=\"http://www.w3.org/2000/svg\" xmlns:xlink=\"http://www.w3.org/1999/xlink\" width=\"600\" height=\"400\" viewBox=\"0 0 600 400\">\n",
       "<defs>\n",
       "  <clipPath id=\"clip3700\">\n",
       "    <rect x=\"0\" y=\"0\" width=\"600\" height=\"400\"/>\n",
       "  </clipPath>\n",
       "</defs>\n",
       "<polygon clip-path=\"url(#clip3700)\" points=\"\n",
       "0,400 600,400 600,0 0,0 \n",
       "  \" fill=\"#ffffff\" fill-opacity=\"1\"/>\n",
       "<defs>\n",
       "  <clipPath id=\"clip3701\">\n",
       "    <rect x=\"120\" y=\"0\" width=\"421\" height=\"400\"/>\n",
       "  </clipPath>\n",
       "</defs>\n",
       "<polygon clip-path=\"url(#clip3700)\" points=\"\n",
       "19.685,375.869 580.315,375.869 580.315,11.811 19.685,11.811 \n",
       "  \" fill=\"#ffffff\" fill-opacity=\"1\"/>\n",
       "<defs>\n",
       "  <clipPath id=\"clip3702\">\n",
       "    <rect x=\"19\" y=\"11\" width=\"562\" height=\"365\"/>\n",
       "  </clipPath>\n",
       "</defs>\n",
       "<polyline clip-path=\"url(#clip3702)\" style=\"stroke:#000000; stroke-width:0.5; stroke-opacity:0.1; fill:none\" points=\"\n",
       "  26.8133,375.869 26.8133,11.811 \n",
       "  \"/>\n",
       "<polyline clip-path=\"url(#clip3702)\" style=\"stroke:#000000; stroke-width:0.5; stroke-opacity:0.1; fill:none\" points=\"\n",
       "  169.378,375.869 169.378,11.811 \n",
       "  \"/>\n",
       "<polyline clip-path=\"url(#clip3702)\" style=\"stroke:#000000; stroke-width:0.5; stroke-opacity:0.1; fill:none\" points=\"\n",
       "  311.942,375.869 311.942,11.811 \n",
       "  \"/>\n",
       "<polyline clip-path=\"url(#clip3702)\" style=\"stroke:#000000; stroke-width:0.5; stroke-opacity:0.1; fill:none\" points=\"\n",
       "  454.506,375.869 454.506,11.811 \n",
       "  \"/>\n",
       "<polyline clip-path=\"url(#clip3700)\" style=\"stroke:#000000; stroke-width:1; stroke-opacity:1; fill:none\" points=\"\n",
       "  19.685,375.869 580.315,375.869 \n",
       "  \"/>\n",
       "<polyline clip-path=\"url(#clip3700)\" style=\"stroke:#000000; stroke-width:1; stroke-opacity:1; fill:none\" points=\"\n",
       "  19.685,375.869 19.685,11.811 \n",
       "  \"/>\n",
       "<polyline clip-path=\"url(#clip3700)\" style=\"stroke:#000000; stroke-width:1; stroke-opacity:1; fill:none\" points=\"\n",
       "  26.8133,375.869 26.8133,370.408 \n",
       "  \"/>\n",
       "<polyline clip-path=\"url(#clip3700)\" style=\"stroke:#000000; stroke-width:1; stroke-opacity:1; fill:none\" points=\"\n",
       "  169.378,375.869 169.378,370.408 \n",
       "  \"/>\n",
       "<polyline clip-path=\"url(#clip3700)\" style=\"stroke:#000000; stroke-width:1; stroke-opacity:1; fill:none\" points=\"\n",
       "  311.942,375.869 311.942,370.408 \n",
       "  \"/>\n",
       "<polyline clip-path=\"url(#clip3700)\" style=\"stroke:#000000; stroke-width:1; stroke-opacity:1; fill:none\" points=\"\n",
       "  454.506,375.869 454.506,370.408 \n",
       "  \"/>\n",
       "<g clip-path=\"url(#clip3700)\">\n",
       "<text style=\"fill:#000000; fill-opacity:1; font-family:Arial,Helvetica Neue,Helvetica,sans-serif; font-size:12; text-anchor:middle;\" transform=\"rotate(0, 26.8133, 389.669)\" x=\"26.8133\" y=\"389.669\">0</text>\n",
       "</g>\n",
       "<g clip-path=\"url(#clip3700)\">\n",
       "<text style=\"fill:#000000; fill-opacity:1; font-family:Arial,Helvetica Neue,Helvetica,sans-serif; font-size:12; text-anchor:middle;\" transform=\"rotate(0, 169.378, 389.669)\" x=\"169.378\" y=\"389.669\">20</text>\n",
       "</g>\n",
       "<g clip-path=\"url(#clip3700)\">\n",
       "<text style=\"fill:#000000; fill-opacity:1; font-family:Arial,Helvetica Neue,Helvetica,sans-serif; font-size:12; text-anchor:middle;\" transform=\"rotate(0, 311.942, 389.669)\" x=\"311.942\" y=\"389.669\">40</text>\n",
       "</g>\n",
       "<g clip-path=\"url(#clip3700)\">\n",
       "<text style=\"fill:#000000; fill-opacity:1; font-family:Arial,Helvetica Neue,Helvetica,sans-serif; font-size:12; text-anchor:middle;\" transform=\"rotate(0, 454.506, 389.669)\" x=\"454.506\" y=\"389.669\">60</text>\n",
       "</g>\n",
       "<polyline clip-path=\"url(#clip3702)\" style=\"stroke:#000000; stroke-width:1; stroke-opacity:1; fill:none\" points=\"\n",
       "  89.9404,262.326 26.8133,262.326 26.8133,193.84 \n",
       "  \"/>\n",
       "<polyline clip-path=\"url(#clip3702)\" style=\"stroke:#000000; stroke-width:1; stroke-opacity:1; fill:none\" points=\"\n",
       "  37.7546,82.0994 26.8133,82.0994 26.8133,193.84 \n",
       "  \"/>\n",
       "<polyline clip-path=\"url(#clip3702)\" style=\"stroke:#000000; stroke-width:1; stroke-opacity:1; fill:none\" points=\"\n",
       "  100.265,319.998 89.9404,319.998 89.9404,262.326 \n",
       "  \"/>\n",
       "<polyline clip-path=\"url(#clip3702)\" style=\"stroke:#000000; stroke-width:1; stroke-opacity:1; fill:none\" points=\"\n",
       "  162.566,208.258 89.9404,208.258 89.9404,262.326 \n",
       "  \"/>\n",
       "<polyline clip-path=\"url(#clip3702)\" style=\"stroke:#000000; stroke-width:1; stroke-opacity:1; fill:none\" points=\"\n",
       "  89.1605,110.936 37.7546,110.936 37.7546,82.0994 \n",
       "  \"/>\n",
       "<polyline clip-path=\"url(#clip3702)\" style=\"stroke:#000000; stroke-width:1; stroke-opacity:1; fill:none\" points=\"\n",
       "  207.512,46.0541 37.7546,46.0541 37.7546,82.0994 \n",
       "  \"/>\n",
       "<polyline clip-path=\"url(#clip3702)\" style=\"stroke:#000000; stroke-width:1; stroke-opacity:1; fill:none\" points=\"\n",
       "  111.608,348.835 100.265,348.835 100.265,319.998 \n",
       "  \"/>\n",
       "<polyline clip-path=\"url(#clip3702)\" style=\"stroke:#000000; stroke-width:1; stroke-opacity:1; fill:none\" points=\"\n",
       "  111.204,294.767 100.265,294.767 100.265,319.998 \n",
       "  \"/>\n",
       "<polyline clip-path=\"url(#clip3702)\" style=\"stroke:#000000; stroke-width:1; stroke-opacity:1; fill:none\" points=\"\n",
       "  199.684,237.094 162.566,237.094 162.566,208.258 \n",
       "  \"/>\n",
       "<polyline clip-path=\"url(#clip3702)\" style=\"stroke:#000000; stroke-width:1; stroke-opacity:1; fill:none\" points=\"\n",
       "  179.232,183.026 162.566,183.026 162.566,208.258 \n",
       "  \"/>\n",
       "<polyline clip-path=\"url(#clip3702)\" style=\"stroke:#000000; stroke-width:1; stroke-opacity:1; fill:none\" points=\"\n",
       "  187.809,125.354 89.1605,125.354 89.1605,110.936 \n",
       "  \"/>\n",
       "<polyline clip-path=\"url(#clip3702)\" style=\"stroke:#000000; stroke-width:1; stroke-opacity:1; fill:none\" points=\"\n",
       "  121.268,89.3084 89.1605,89.3084 89.1605,110.936 \n",
       "  \"/>\n",
       "<polyline clip-path=\"url(#clip3702)\" style=\"stroke:#000000; stroke-width:1; stroke-opacity:1; fill:none\" points=\"\n",
       "  215.845,60.4722 207.512,60.4722 207.512,46.0541 \n",
       "  \"/>\n",
       "<polyline clip-path=\"url(#clip3702)\" style=\"stroke:#000000; stroke-width:1; stroke-opacity:1; fill:none\" points=\"\n",
       "  235.033,35.2405 207.512,35.2405 207.512,46.0541 \n",
       "  \"/>\n",
       "<polyline clip-path=\"url(#clip3702)\" style=\"stroke:#000000; stroke-width:1; stroke-opacity:1; fill:none\" points=\"\n",
       "  163.189,363.253 111.608,363.253 111.608,348.835 \n",
       "  \"/>\n",
       "<polyline clip-path=\"url(#clip3702)\" style=\"stroke:#000000; stroke-width:1; stroke-opacity:1; fill:none\" points=\"\n",
       "  130.695,338.021 111.608,338.021 111.608,348.835 \n",
       "  \"/>\n",
       "<polyline clip-path=\"url(#clip3702)\" style=\"stroke:#000000; stroke-width:1; stroke-opacity:1; fill:none\" points=\"\n",
       "  127.698,309.185 111.204,309.185 111.204,294.767 \n",
       "  \"/>\n",
       "<polyline clip-path=\"url(#clip3702)\" style=\"stroke:#000000; stroke-width:1; stroke-opacity:1; fill:none\" points=\"\n",
       "  136.083,283.953 111.204,283.953 111.204,294.767 \n",
       "  \"/>\n",
       "<polyline clip-path=\"url(#clip3702)\" style=\"stroke:#000000; stroke-width:1; stroke-opacity:1; fill:none\" points=\"\n",
       "  501.984,251.512 199.684,251.512 199.684,237.094 \n",
       "  \"/>\n",
       "<polyline clip-path=\"url(#clip3702)\" style=\"stroke:#000000; stroke-width:1; stroke-opacity:1; fill:none\" points=\"\n",
       "  204.995,226.281 199.684,226.281 199.684,237.094 \n",
       "  \"/>\n",
       "<polyline clip-path=\"url(#clip3702)\" style=\"stroke:#000000; stroke-width:1; stroke-opacity:1; fill:none\" points=\"\n",
       "  305.19,197.444 179.232,197.444 179.232,183.026 \n",
       "  \"/>\n",
       "<polyline clip-path=\"url(#clip3702)\" style=\"stroke:#000000; stroke-width:1; stroke-opacity:1; fill:none\" points=\"\n",
       "  242.094,172.213 179.232,172.213 179.232,183.026 \n",
       "  \"/>\n",
       "<polyline clip-path=\"url(#clip3702)\" style=\"stroke:#000000; stroke-width:1; stroke-opacity:1; fill:none\" points=\"\n",
       "  206.014,136.167 187.809,136.167 187.809,125.354 \n",
       "  \"/>\n",
       "<polyline clip-path=\"url(#clip3702)\" style=\"stroke:#000000; stroke-width:1; stroke-opacity:1; fill:none\" points=\"\n",
       "  205.894,114.54 187.809,114.54 187.809,125.354 \n",
       "  \"/>\n",
       "<polyline clip-path=\"url(#clip3702)\" style=\"stroke:#000000; stroke-width:1; stroke-opacity:1; fill:none\" points=\"\n",
       "  144.132,96.5175 121.268,96.5175 121.268,89.3084 \n",
       "  \"/>\n",
       "<polyline clip-path=\"url(#clip3702)\" style=\"stroke:#000000; stroke-width:1; stroke-opacity:1; fill:none\" points=\"\n",
       "  140.96,85.7039 121.268,85.7039 121.268,89.3084 \n",
       "  \"/>\n",
       "<polyline clip-path=\"url(#clip3702)\" style=\"stroke:#000000; stroke-width:1; stroke-opacity:1; fill:none\" points=\"\n",
       "  244.002,67.6813 215.845,67.6813 215.845,60.4722 \n",
       "  \"/>\n",
       "<polyline clip-path=\"url(#clip3702)\" style=\"stroke:#000000; stroke-width:1; stroke-opacity:1; fill:none\" points=\"\n",
       "  217.487,56.8677 215.845,56.8677 215.845,60.4722 \n",
       "  \"/>\n",
       "<polyline clip-path=\"url(#clip3702)\" style=\"stroke:#000000; stroke-width:1; stroke-opacity:1; fill:none\" points=\"\n",
       "  238.882,42.4495 235.033,42.4495 235.033,35.2405 \n",
       "  \"/>\n",
       "<polyline clip-path=\"url(#clip3702)\" style=\"stroke:#000000; stroke-width:1; stroke-opacity:1; fill:none\" points=\"\n",
       "  286.276,31.6359 235.033,31.6359 235.033,35.2405 \n",
       "  \"/>\n",
       "<polyline clip-path=\"url(#clip3702)\" style=\"stroke:#000000; stroke-width:1; stroke-opacity:1; fill:none\" points=\"\n",
       "  170.255,370.462 163.189,370.462 163.189,363.253 \n",
       "  \"/>\n",
       "<polyline clip-path=\"url(#clip3702)\" style=\"stroke:#000000; stroke-width:1; stroke-opacity:1; fill:none\" points=\"\n",
       "  205.244,359.648 163.189,359.648 163.189,363.253 \n",
       "  \"/>\n",
       "<polyline clip-path=\"url(#clip3702)\" style=\"stroke:#000000; stroke-width:1; stroke-opacity:1; fill:none\" points=\"\n",
       "  156.337,345.23 130.695,345.23 130.695,338.021 \n",
       "  \"/>\n",
       "<polyline clip-path=\"url(#clip3702)\" style=\"stroke:#000000; stroke-width:1; stroke-opacity:1; fill:none\" points=\"\n",
       "  159.84,334.417 130.695,334.417 130.695,338.021 \n",
       "  \"/>\n",
       "<polyline clip-path=\"url(#clip3702)\" style=\"stroke:#000000; stroke-width:1; stroke-opacity:1; fill:none\" points=\"\n",
       "  146.623,316.394 127.698,316.394 127.698,309.185 \n",
       "  \"/>\n",
       "<polyline clip-path=\"url(#clip3702)\" style=\"stroke:#000000; stroke-width:1; stroke-opacity:1; fill:none\" points=\"\n",
       "  163.792,305.58 127.698,305.58 127.698,309.185 \n",
       "  \"/>\n",
       "<polyline clip-path=\"url(#clip3702)\" style=\"stroke:#000000; stroke-width:1; stroke-opacity:1; fill:none\" points=\"\n",
       "  148.598,291.162 136.083,291.162 136.083,283.953 \n",
       "  \"/>\n",
       "<polyline clip-path=\"url(#clip3702)\" style=\"stroke:#000000; stroke-width:1; stroke-opacity:1; fill:none\" points=\"\n",
       "  141.362,280.349 136.083,280.349 136.083,283.953 \n",
       "  \"/>\n",
       "<polyline clip-path=\"url(#clip3702)\" style=\"stroke:#000000; stroke-width:1; stroke-opacity:1; fill:none\" points=\"\n",
       "  518.22,258.721 501.984,258.721 501.984,251.512 \n",
       "  \"/>\n",
       "<polyline clip-path=\"url(#clip3702)\" style=\"stroke:#000000; stroke-width:1; stroke-opacity:1; fill:none\" points=\"\n",
       "  547.37,247.908 501.984,247.908 501.984,251.512 \n",
       "  \"/>\n",
       "<polyline clip-path=\"url(#clip3702)\" style=\"stroke:#000000; stroke-width:1; stroke-opacity:1; fill:none\" points=\"\n",
       "  217.304,233.49 204.995,233.49 204.995,226.281 \n",
       "  \"/>\n",
       "<polyline clip-path=\"url(#clip3702)\" style=\"stroke:#000000; stroke-width:1; stroke-opacity:1; fill:none\" points=\"\n",
       "  260.094,222.676 204.995,222.676 204.995,226.281 \n",
       "  \"/>\n",
       "<polyline clip-path=\"url(#clip3702)\" style=\"stroke:#000000; stroke-width:1; stroke-opacity:1; fill:none\" points=\"\n",
       "  355.657,204.653 305.19,204.653 305.19,197.444 \n",
       "  \"/>\n",
       "<polyline clip-path=\"url(#clip3702)\" style=\"stroke:#000000; stroke-width:1; stroke-opacity:1; fill:none\" points=\"\n",
       "  310.296,193.84 305.19,193.84 305.19,197.444 \n",
       "  \"/>\n",
       "<polyline clip-path=\"url(#clip3702)\" style=\"stroke:#000000; stroke-width:1; stroke-opacity:1; fill:none\" points=\"\n",
       "  279.871,179.422 242.094,179.422 242.094,172.213 \n",
       "  \"/>\n",
       "<polyline clip-path=\"url(#clip3702)\" style=\"stroke:#000000; stroke-width:1; stroke-opacity:1; fill:none\" points=\"\n",
       "  341.358,168.608 242.094,168.608 242.094,172.213 \n",
       "  \"/>\n",
       "<polyline clip-path=\"url(#clip3702)\" style=\"stroke:#000000; stroke-width:1; stroke-opacity:1; fill:none\" points=\"\n",
       "  215.858,143.376 206.014,143.376 206.014,136.167 \n",
       "  \"/>\n",
       "<polyline clip-path=\"url(#clip3702)\" style=\"stroke:#000000; stroke-width:1; stroke-opacity:1; fill:none\" points=\"\n",
       "  214.545,132.563 206.014,132.563 206.014,136.167 \n",
       "  \"/>\n",
       "<polyline clip-path=\"url(#clip3702)\" style=\"stroke:#000000; stroke-width:1; stroke-opacity:1; fill:none\" points=\"\n",
       "  227.176,118.145 205.894,118.145 205.894,114.54 \n",
       "  \"/>\n",
       "<polyline clip-path=\"url(#clip3702)\" style=\"stroke:#000000; stroke-width:1; stroke-opacity:1; fill:none\" points=\"\n",
       "  225.029,110.936 205.894,110.936 205.894,114.54 \n",
       "  \"/>\n",
       "<polyline clip-path=\"url(#clip3702)\" style=\"stroke:#000000; stroke-width:1; stroke-opacity:1; fill:none\" points=\"\n",
       "  159.246,100.122 144.132,100.122 144.132,96.5175 \n",
       "  \"/>\n",
       "<polyline clip-path=\"url(#clip3702)\" style=\"stroke:#000000; stroke-width:1; stroke-opacity:1; fill:none\" points=\"\n",
       "  176.787,96.5175 144.132,96.5175 \n",
       "  \"/>\n",
       "<polyline clip-path=\"url(#clip3702)\" style=\"stroke:#000000; stroke-width:1; stroke-opacity:1; fill:none\" points=\"\n",
       "  142.974,89.3084 140.96,89.3084 140.96,85.7039 \n",
       "  \"/>\n",
       "<polyline clip-path=\"url(#clip3702)\" style=\"stroke:#000000; stroke-width:1; stroke-opacity:1; fill:none\" points=\"\n",
       "  154.799,85.7039 140.96,85.7039 \n",
       "  \"/>\n",
       "<polyline clip-path=\"url(#clip3702)\" style=\"stroke:#000000; stroke-width:1; stroke-opacity:1; fill:none\" points=\"\n",
       "  288.769,71.2858 244.002,71.2858 244.002,67.6813 \n",
       "  \"/>\n",
       "<polyline clip-path=\"url(#clip3702)\" style=\"stroke:#000000; stroke-width:1; stroke-opacity:1; fill:none\" points=\"\n",
       "  270.34,67.6813 244.002,67.6813 \n",
       "  \"/>\n",
       "<polyline clip-path=\"url(#clip3702)\" style=\"stroke:#000000; stroke-width:1; stroke-opacity:1; fill:none\" points=\"\n",
       "  251.34,60.4722 217.487,60.4722 217.487,56.8677 \n",
       "  \"/>\n",
       "<polyline clip-path=\"url(#clip3702)\" style=\"stroke:#000000; stroke-width:1; stroke-opacity:1; fill:none\" points=\"\n",
       "  224.227,56.8677 217.487,56.8677 \n",
       "  \"/>\n",
       "<polyline clip-path=\"url(#clip3702)\" style=\"stroke:#000000; stroke-width:1; stroke-opacity:1; fill:none\" points=\"\n",
       "  255.037,46.0541 238.882,46.0541 238.882,42.4495 \n",
       "  \"/>\n",
       "<polyline clip-path=\"url(#clip3702)\" style=\"stroke:#000000; stroke-width:1; stroke-opacity:1; fill:none\" points=\"\n",
       "  266.268,42.4495 238.882,42.4495 \n",
       "  \"/>\n",
       "<polyline clip-path=\"url(#clip3702)\" style=\"stroke:#000000; stroke-width:1; stroke-opacity:1; fill:none\" points=\"\n",
       "  300.032,35.2405 286.276,35.2405 286.276,31.6359 \n",
       "  \"/>\n",
       "<polyline clip-path=\"url(#clip3702)\" style=\"stroke:#000000; stroke-width:1; stroke-opacity:1; fill:none\" points=\"\n",
       "  298.497,31.6359 286.276,31.6359 \n",
       "  \"/>\n",
       "<polyline clip-path=\"url(#clip3702)\" style=\"stroke:#000000; stroke-width:1; stroke-opacity:1; fill:none\" points=\"\n",
       "  206.631,374.066 170.255,374.066 170.255,370.462 \n",
       "  \"/>\n",
       "<polyline clip-path=\"url(#clip3702)\" style=\"stroke:#000000; stroke-width:1; stroke-opacity:1; fill:none\" points=\"\n",
       "  223.536,370.462 170.255,370.462 \n",
       "  \"/>\n",
       "<polyline clip-path=\"url(#clip3702)\" style=\"stroke:#000000; stroke-width:1; stroke-opacity:1; fill:none\" points=\"\n",
       "  270.286,363.253 205.244,363.253 205.244,359.648 \n",
       "  \"/>\n",
       "<polyline clip-path=\"url(#clip3702)\" style=\"stroke:#000000; stroke-width:1; stroke-opacity:1; fill:none\" points=\"\n",
       "  209.781,359.648 205.244,359.648 \n",
       "  \"/>\n",
       "<polyline clip-path=\"url(#clip3702)\" style=\"stroke:#000000; stroke-width:1; stroke-opacity:1; fill:none\" points=\"\n",
       "  171.335,348.835 156.337,348.835 156.337,345.23 \n",
       "  \"/>\n",
       "<polyline clip-path=\"url(#clip3702)\" style=\"stroke:#000000; stroke-width:1; stroke-opacity:1; fill:none\" points=\"\n",
       "  166.588,345.23 156.337,345.23 \n",
       "  \"/>\n",
       "<polyline clip-path=\"url(#clip3702)\" style=\"stroke:#000000; stroke-width:1; stroke-opacity:1; fill:none\" points=\"\n",
       "  191.581,338.021 159.84,338.021 159.84,334.417 \n",
       "  \"/>\n",
       "<polyline clip-path=\"url(#clip3702)\" style=\"stroke:#000000; stroke-width:1; stroke-opacity:1; fill:none\" points=\"\n",
       "  165.189,334.417 159.84,334.417 \n",
       "  \"/>\n",
       "<polyline clip-path=\"url(#clip3702)\" style=\"stroke:#000000; stroke-width:1; stroke-opacity:1; fill:none\" points=\"\n",
       "  164.728,319.998 146.623,319.998 146.623,316.394 \n",
       "  \"/>\n",
       "<polyline clip-path=\"url(#clip3702)\" style=\"stroke:#000000; stroke-width:1; stroke-opacity:1; fill:none\" points=\"\n",
       "  166.184,316.394 146.623,316.394 \n",
       "  \"/>\n",
       "<polyline clip-path=\"url(#clip3702)\" style=\"stroke:#000000; stroke-width:1; stroke-opacity:1; fill:none\" points=\"\n",
       "  280.073,309.185 163.792,309.185 163.792,305.58 \n",
       "  \"/>\n",
       "<polyline clip-path=\"url(#clip3702)\" style=\"stroke:#000000; stroke-width:1; stroke-opacity:1; fill:none\" points=\"\n",
       "  201.279,305.58 163.792,305.58 \n",
       "  \"/>\n",
       "<polyline clip-path=\"url(#clip3702)\" style=\"stroke:#000000; stroke-width:1; stroke-opacity:1; fill:none\" points=\"\n",
       "  176.946,294.767 148.598,294.767 148.598,291.162 \n",
       "  \"/>\n",
       "<polyline clip-path=\"url(#clip3702)\" style=\"stroke:#000000; stroke-width:1; stroke-opacity:1; fill:none\" points=\"\n",
       "  190.684,291.162 148.598,291.162 \n",
       "  \"/>\n",
       "<polyline clip-path=\"url(#clip3702)\" style=\"stroke:#000000; stroke-width:1; stroke-opacity:1; fill:none\" points=\"\n",
       "  147.718,283.953 141.362,283.953 141.362,280.349 \n",
       "  \"/>\n",
       "<polyline clip-path=\"url(#clip3702)\" style=\"stroke:#000000; stroke-width:1; stroke-opacity:1; fill:none\" points=\"\n",
       "  147.484,280.349 141.362,280.349 \n",
       "  \"/>\n",
       "<polyline clip-path=\"url(#clip3702)\" style=\"stroke:#000000; stroke-width:1; stroke-opacity:1; fill:none\" points=\"\n",
       "  529.58,262.326 518.22,262.326 518.22,258.721 \n",
       "  \"/>\n",
       "<polyline clip-path=\"url(#clip3702)\" style=\"stroke:#000000; stroke-width:1; stroke-opacity:1; fill:none\" points=\"\n",
       "  557.514,258.721 518.22,258.721 \n",
       "  \"/>\n",
       "<polyline clip-path=\"url(#clip3702)\" style=\"stroke:#000000; stroke-width:1; stroke-opacity:1; fill:none\" points=\"\n",
       "  566.865,251.512 547.37,251.512 547.37,247.908 \n",
       "  \"/>\n",
       "<polyline clip-path=\"url(#clip3702)\" style=\"stroke:#000000; stroke-width:1; stroke-opacity:1; fill:none\" points=\"\n",
       "  573.187,247.908 547.37,247.908 \n",
       "  \"/>\n",
       "<polyline clip-path=\"url(#clip3702)\" style=\"stroke:#000000; stroke-width:1; stroke-opacity:1; fill:none\" points=\"\n",
       "  237.041,237.094 217.304,237.094 217.304,233.49 \n",
       "  \"/>\n",
       "<polyline clip-path=\"url(#clip3702)\" style=\"stroke:#000000; stroke-width:1; stroke-opacity:1; fill:none\" points=\"\n",
       "  253.107,233.49 217.304,233.49 \n",
       "  \"/>\n",
       "<polyline clip-path=\"url(#clip3702)\" style=\"stroke:#000000; stroke-width:1; stroke-opacity:1; fill:none\" points=\"\n",
       "  282.827,226.281 260.094,226.281 260.094,222.676 \n",
       "  \"/>\n",
       "<polyline clip-path=\"url(#clip3702)\" style=\"stroke:#000000; stroke-width:1; stroke-opacity:1; fill:none\" points=\"\n",
       "  284.377,222.676 260.094,222.676 \n",
       "  \"/>\n",
       "<polyline clip-path=\"url(#clip3702)\" style=\"stroke:#000000; stroke-width:1; stroke-opacity:1; fill:none\" points=\"\n",
       "  389.189,208.258 355.657,208.258 355.657,204.653 \n",
       "  \"/>\n",
       "<polyline clip-path=\"url(#clip3702)\" style=\"stroke:#000000; stroke-width:1; stroke-opacity:1; fill:none\" points=\"\n",
       "  378.173,204.653 355.657,204.653 \n",
       "  \"/>\n",
       "<polyline clip-path=\"url(#clip3702)\" style=\"stroke:#000000; stroke-width:1; stroke-opacity:1; fill:none\" points=\"\n",
       "  346.085,197.444 310.296,197.444 310.296,193.84 \n",
       "  \"/>\n",
       "<polyline clip-path=\"url(#clip3702)\" style=\"stroke:#000000; stroke-width:1; stroke-opacity:1; fill:none\" points=\"\n",
       "  315.485,193.84 310.296,193.84 \n",
       "  \"/>\n",
       "<polyline clip-path=\"url(#clip3702)\" style=\"stroke:#000000; stroke-width:1; stroke-opacity:1; fill:none\" points=\"\n",
       "  320.855,183.026 279.871,183.026 279.871,179.422 \n",
       "  \"/>\n",
       "<polyline clip-path=\"url(#clip3702)\" style=\"stroke:#000000; stroke-width:1; stroke-opacity:1; fill:none\" points=\"\n",
       "  284.944,179.422 279.871,179.422 \n",
       "  \"/>\n",
       "<polyline clip-path=\"url(#clip3702)\" style=\"stroke:#000000; stroke-width:1; stroke-opacity:1; fill:none\" points=\"\n",
       "  369.212,172.213 341.358,172.213 341.358,168.608 \n",
       "  \"/>\n",
       "<polyline clip-path=\"url(#clip3702)\" style=\"stroke:#000000; stroke-width:1; stroke-opacity:1; fill:none\" points=\"\n",
       "  380.151,168.608 341.358,168.608 \n",
       "  \"/>\n",
       "<polyline clip-path=\"url(#clip3702)\" style=\"stroke:#000000; stroke-width:1; stroke-opacity:1; fill:none\" points=\"\n",
       "  253.325,146.981 215.858,146.981 215.858,143.376 \n",
       "  \"/>\n",
       "<polyline clip-path=\"url(#clip3702)\" style=\"stroke:#000000; stroke-width:1; stroke-opacity:1; fill:none\" points=\"\n",
       "  239.099,143.376 215.858,143.376 \n",
       "  \"/>\n",
       "<polyline clip-path=\"url(#clip3702)\" style=\"stroke:#000000; stroke-width:1; stroke-opacity:1; fill:none\" points=\"\n",
       "  233.316,136.167 214.545,136.167 214.545,132.563 \n",
       "  \"/>\n",
       "<polyline clip-path=\"url(#clip3702)\" style=\"stroke:#000000; stroke-width:1; stroke-opacity:1; fill:none\" points=\"\n",
       "  224.318,132.563 214.545,132.563 \n",
       "  \"/>\n",
       "<polyline clip-path=\"url(#clip3702)\" style=\"stroke:#000000; stroke-width:1; stroke-opacity:1; fill:none\" points=\"\n",
       "  236.682,121.749 227.176,121.749 227.176,118.145 \n",
       "  \"/>\n",
       "<polyline clip-path=\"url(#clip3702)\" style=\"stroke:#000000; stroke-width:1; stroke-opacity:1; fill:none\" points=\"\n",
       "  303.156,118.145 227.176,118.145 \n",
       "  \"/>\n",
       "</svg>\n"
      ]
     },
     "execution_count": 588,
     "metadata": {},
     "output_type": "execute_result"
    },
    {
     "name": "stdout",
     "output_type": "stream",
     "text": [
      "  0.000200 seconds (727 allocations: 52.484 KiB)\n"
     ]
    }
   ],
   "source": [
    "@time tree = treerand(50)\n",
    "plot(tree)"
   ]
  },
  {
   "cell_type": "code",
   "execution_count": 245,
   "metadata": {},
   "outputs": [
    {
     "ename": "LoadError",
     "evalue": "\u001b[91mSource node does not exist\u001b[39m",
     "output_type": "error",
     "traceback": [
      "\u001b[91mSource node does not exist\u001b[39m",
      "",
      "Stacktrace:",
      " [1] \u001b[1maddbranch!\u001b[22m\u001b[22m\u001b[1m(\u001b[22m\u001b[22m::PhyloTrees.Tree, ::Int64, ::Int64, ::Float64\u001b[1m)\u001b[22m\u001b[22m at \u001b[1mC:\\Users\\bjorn\\.julia\\v0.6\\PhyloTrees\\src\\construction.jl:97\u001b[22m\u001b[22m"
     ]
    }
   ],
   "source": []
  },
  {
   "cell_type": "code",
   "execution_count": 363,
   "metadata": {},
   "outputs": [
    {
     "data": {
      "text/plain": [
       "\r",
       "\u001b[0mPhylogenetic tree with 9 nodes and 8 branches"
      ]
     },
     "execution_count": 363,
     "metadata": {},
     "output_type": "execute_result"
    }
   ],
   "source": [
    "tree = Tree()\n",
    "\n",
    "# See Yang 2014 pp. 105. Fig. 4.2\n",
    "\n",
    "addnodes!(tree, 9)\n",
    "\n",
    "addbranch!(tree, 1, 2, 0.1)\n",
    "addbranch!(tree, 1, 3, 0.1)\n",
    "\n",
    "addbranch!(tree, 2, 4, 0.1)\n",
    "addbranch!(tree, 2, 5, 0.2)\n",
    "\n",
    "addbranch!(tree, 4, 6, 0.2)\n",
    "addbranch!(tree, 4, 7, 0.2)\n",
    "\n",
    "addbranch!(tree, 3, 8, 0.2)\n",
    "\n",
    "addbranch!(tree, 3, 9, 0.2)"
   ]
  },
  {
   "cell_type": "code",
   "execution_count": null,
   "metadata": {},
   "outputs": [],
   "source": []
  },
  {
   "cell_type": "code",
   "execution_count": 364,
   "metadata": {},
   "outputs": [
    {
     "data": {
      "image/svg+xml": [
       "<?xml version=\"1.0\" encoding=\"utf-8\"?>\n",
       "<svg xmlns=\"http://www.w3.org/2000/svg\" xmlns:xlink=\"http://www.w3.org/1999/xlink\" width=\"600\" height=\"400\" viewBox=\"0 0 600 400\">\n",
       "<defs>\n",
       "  <clipPath id=\"clip2700\">\n",
       "    <rect x=\"0\" y=\"0\" width=\"600\" height=\"400\"/>\n",
       "  </clipPath>\n",
       "</defs>\n",
       "<polygon clip-path=\"url(#clip2700)\" points=\"\n",
       "0,400 600,400 600,0 0,0 \n",
       "  \" fill=\"#ffffff\" fill-opacity=\"1\"/>\n",
       "<defs>\n",
       "  <clipPath id=\"clip2701\">\n",
       "    <rect x=\"120\" y=\"0\" width=\"421\" height=\"400\"/>\n",
       "  </clipPath>\n",
       "</defs>\n",
       "<polygon clip-path=\"url(#clip2700)\" points=\"\n",
       "19.685,375.869 580.315,375.869 580.315,11.811 19.685,11.811 \n",
       "  \" fill=\"#ffffff\" fill-opacity=\"1\"/>\n",
       "<defs>\n",
       "  <clipPath id=\"clip2702\">\n",
       "    <rect x=\"19\" y=\"11\" width=\"562\" height=\"365\"/>\n",
       "  </clipPath>\n",
       "</defs>\n",
       "<polyline clip-path=\"url(#clip2702)\" style=\"stroke:#000000; stroke-width:0.5; stroke-opacity:0.1; fill:none\" points=\"\n",
       "  19.685,375.869 19.685,11.811 \n",
       "  \"/>\n",
       "<polyline clip-path=\"url(#clip2702)\" style=\"stroke:#000000; stroke-width:0.5; stroke-opacity:0.1; fill:none\" points=\"\n",
       "  136.483,375.869 136.483,11.811 \n",
       "  \"/>\n",
       "<polyline clip-path=\"url(#clip2702)\" style=\"stroke:#000000; stroke-width:0.5; stroke-opacity:0.1; fill:none\" points=\"\n",
       "  253.281,375.869 253.281,11.811 \n",
       "  \"/>\n",
       "<polyline clip-path=\"url(#clip2702)\" style=\"stroke:#000000; stroke-width:0.5; stroke-opacity:0.1; fill:none\" points=\"\n",
       "  370.079,375.869 370.079,11.811 \n",
       "  \"/>\n",
       "<polyline clip-path=\"url(#clip2702)\" style=\"stroke:#000000; stroke-width:0.5; stroke-opacity:0.1; fill:none\" points=\"\n",
       "  486.877,375.869 486.877,11.811 \n",
       "  \"/>\n",
       "<polyline clip-path=\"url(#clip2700)\" style=\"stroke:#000000; stroke-width:1; stroke-opacity:1; fill:none\" points=\"\n",
       "  19.685,375.869 580.315,375.869 \n",
       "  \"/>\n",
       "<polyline clip-path=\"url(#clip2700)\" style=\"stroke:#000000; stroke-width:1; stroke-opacity:1; fill:none\" points=\"\n",
       "  19.685,375.869 19.685,11.811 \n",
       "  \"/>\n",
       "<polyline clip-path=\"url(#clip2700)\" style=\"stroke:#000000; stroke-width:1; stroke-opacity:1; fill:none\" points=\"\n",
       "  19.685,375.869 19.685,370.408 \n",
       "  \"/>\n",
       "<polyline clip-path=\"url(#clip2700)\" style=\"stroke:#000000; stroke-width:1; stroke-opacity:1; fill:none\" points=\"\n",
       "  136.483,375.869 136.483,370.408 \n",
       "  \"/>\n",
       "<polyline clip-path=\"url(#clip2700)\" style=\"stroke:#000000; stroke-width:1; stroke-opacity:1; fill:none\" points=\"\n",
       "  253.281,375.869 253.281,370.408 \n",
       "  \"/>\n",
       "<polyline clip-path=\"url(#clip2700)\" style=\"stroke:#000000; stroke-width:1; stroke-opacity:1; fill:none\" points=\"\n",
       "  370.079,375.869 370.079,370.408 \n",
       "  \"/>\n",
       "<polyline clip-path=\"url(#clip2700)\" style=\"stroke:#000000; stroke-width:1; stroke-opacity:1; fill:none\" points=\"\n",
       "  486.877,375.869 486.877,370.408 \n",
       "  \"/>\n",
       "<g clip-path=\"url(#clip2700)\">\n",
       "<text style=\"fill:#000000; fill-opacity:1; font-family:Arial,Helvetica Neue,Helvetica,sans-serif; font-size:12; text-anchor:middle;\" transform=\"rotate(0, 19.685, 389.669)\" x=\"19.685\" y=\"389.669\">-1.0</text>\n",
       "</g>\n",
       "<g clip-path=\"url(#clip2700)\">\n",
       "<text style=\"fill:#000000; fill-opacity:1; font-family:Arial,Helvetica Neue,Helvetica,sans-serif; font-size:12; text-anchor:middle;\" transform=\"rotate(0, 136.483, 389.669)\" x=\"136.483\" y=\"389.669\">-0.5</text>\n",
       "</g>\n",
       "<g clip-path=\"url(#clip2700)\">\n",
       "<text style=\"fill:#000000; fill-opacity:1; font-family:Arial,Helvetica Neue,Helvetica,sans-serif; font-size:12; text-anchor:middle;\" transform=\"rotate(0, 253.281, 389.669)\" x=\"253.281\" y=\"389.669\">0.0</text>\n",
       "</g>\n",
       "<g clip-path=\"url(#clip2700)\">\n",
       "<text style=\"fill:#000000; fill-opacity:1; font-family:Arial,Helvetica Neue,Helvetica,sans-serif; font-size:12; text-anchor:middle;\" transform=\"rotate(0, 370.079, 389.669)\" x=\"370.079\" y=\"389.669\">0.5</text>\n",
       "</g>\n",
       "<g clip-path=\"url(#clip2700)\">\n",
       "<text style=\"fill:#000000; fill-opacity:1; font-family:Arial,Helvetica Neue,Helvetica,sans-serif; font-size:12; text-anchor:middle;\" transform=\"rotate(0, 486.877, 389.669)\" x=\"486.877\" y=\"389.669\">1.0</text>\n",
       "</g>\n",
       "<polyline clip-path=\"url(#clip2702)\" style=\"stroke:#000000; stroke-width:1; stroke-opacity:1; fill:none\" points=\"\n",
       "  276.64,274.742 253.281,274.742 253.281,193.84 \n",
       "  \"/>\n",
       "<polyline clip-path=\"url(#clip2702)\" style=\"stroke:#000000; stroke-width:1; stroke-opacity:1; fill:none\" points=\"\n",
       "  276.64,112.938 253.281,112.938 253.281,193.84 \n",
       "  \"/>\n",
       "<polyline clip-path=\"url(#clip2702)\" style=\"stroke:#000000; stroke-width:1; stroke-opacity:1; fill:none\" points=\"\n",
       "  300,315.192 276.64,315.192 276.64,274.742 \n",
       "  \"/>\n",
       "<polyline clip-path=\"url(#clip2702)\" style=\"stroke:#000000; stroke-width:1; stroke-opacity:1; fill:none\" points=\"\n",
       "  323.36,234.291 276.64,234.291 276.64,274.742 \n",
       "  \"/>\n",
       "<polyline clip-path=\"url(#clip2702)\" style=\"stroke:#000000; stroke-width:1; stroke-opacity:1; fill:none\" points=\"\n",
       "  323.36,153.389 276.64,153.389 276.64,112.938 \n",
       "  \"/>\n",
       "<polyline clip-path=\"url(#clip2702)\" style=\"stroke:#000000; stroke-width:1; stroke-opacity:1; fill:none\" points=\"\n",
       "  323.36,112.938 276.64,112.938 \n",
       "  \"/>\n",
       "<polyline clip-path=\"url(#clip2702)\" style=\"stroke:#000000; stroke-width:1; stroke-opacity:1; fill:none\" points=\"\n",
       "  346.719,355.643 300,355.643 300,315.192 \n",
       "  \"/>\n",
       "<polyline clip-path=\"url(#clip2702)\" style=\"stroke:#000000; stroke-width:1; stroke-opacity:1; fill:none\" points=\"\n",
       "  346.719,315.192 300,315.192 \n",
       "  \"/>\n",
       "</svg>\n"
      ]
     },
     "execution_count": 364,
     "metadata": {},
     "output_type": "execute_result"
    }
   ],
   "source": [
    "plot(tree)"
   ]
  },
  {
   "cell_type": "code",
   "execution_count": null,
   "metadata": {},
   "outputs": [],
   "source": []
  },
  {
   "cell_type": "code",
   "execution_count": 365,
   "metadata": {},
   "outputs": [],
   "source": [
    "visit_order = postorder(tree);"
   ]
  },
  {
   "cell_type": "code",
   "execution_count": null,
   "metadata": {},
   "outputs": [],
   "source": []
  },
  {
   "cell_type": "code",
   "execution_count": 366,
   "metadata": {},
   "outputs": [
    {
     "data": {
      "text/plain": [
       "\r",
       "\u001b[0m\u001b[1mK\u001b[0mimura 19\u001b[1m80\u001b[0m model (relative rate form)\n",
       "κ = 2.0"
      ]
     },
     "execution_count": 366,
     "metadata": {},
     "output_type": "execute_result"
    }
   ],
   "source": [
    "#mod = JC69()\n",
    "mod = K80(2.0)"
   ]
  },
  {
   "cell_type": "code",
   "execution_count": 409,
   "metadata": {},
   "outputs": [
    {
     "data": {
      "text/plain": [
       "dna_to_vec (generic function with 1 method)"
      ]
     },
     "execution_count": 409,
     "metadata": {},
     "output_type": "execute_result"
    }
   ],
   "source": [
    "nucleotides = [DNA_A, DNA_C, DNA_G ,DNA_T]\n",
    "\n",
    "function dna_to_vec(DNA::BioSymbols.DNA)\n",
    "    if DNA == DNA_A\n",
    "        res = [1, 0, 0, 0]\n",
    "    elseif DNA == DNA_C\n",
    "        res = [0, 1, 0, 0]\n",
    "    elseif DNA == DNA_G\n",
    "        res = [0, 0, 1, 0]\n",
    "    elseif DNA == DNA_T\n",
    "        res = [0, 0, 0, 1]\n",
    "    else\n",
    "        error()\n",
    "    end\n",
    "    \n",
    "    return(res)\n",
    "end\n",
    "\n"
   ]
  },
  {
   "cell_type": "code",
   "execution_count": 410,
   "metadata": {},
   "outputs": [],
   "source": [
    "leaves = Dict(i => tree.nodes[i] for i in visit_order if isleaf(tree, i));"
   ]
  },
  {
   "cell_type": "code",
   "execution_count": 411,
   "metadata": {},
   "outputs": [
    {
     "data": {
      "text/plain": [
       "Dict{BioSymbols.DNA,Float64} with 4 entries:\n",
       "  DNA_T => 0.2\n",
       "  DNA_C => 0.6\n",
       "  DNA_A => 0.2\n",
       "  DNA_G => 0.0"
      ]
     },
     "execution_count": 411,
     "metadata": {},
     "output_type": "execute_result"
    }
   ],
   "source": [
    "node_data = Dict{Int64, BioSymbols.DNA}(7 => DNA_T, 6 => DNA_C, 5 => DNA_A, 9 => DNA_C, 8 => DNA_C)\n",
    "\n",
    "n = length(values(node_data))\n",
    "base_freq = Dict(nucleotide => sum(nucleotide == x for x in values(node_data)) / n for nucleotide in nucleotides)\n"
   ]
  },
  {
   "cell_type": "code",
   "execution_count": null,
   "metadata": {},
   "outputs": [],
   "source": [
    "visit_order = postorder(tree)"
   ]
  },
  {
   "cell_type": "code",
   "execution_count": null,
   "metadata": {},
   "outputs": [],
   "source": []
  },
  {
   "cell_type": "code",
   "execution_count": 675,
   "metadata": {},
   "outputs": [
    {
     "data": {
      "text/plain": [
       "logLik (generic function with 3 methods)"
      ]
     },
     "execution_count": 675,
     "metadata": {},
     "output_type": "execute_result"
    }
   ],
   "source": [
    "#bl = [0.2, 0.2, 0.1, 0.1, 0.2, 0.2, 0.2, 0.1]\n",
    "\n",
    "function logLik(tree, bl, node_data, base_freq, mod)\n",
    "    #for (idx, (k, v)) in enumerate(tree.branches)\n",
    "    #    setlength!(tree, k, bl[idx])\n",
    "    #end\n",
    "        \n",
    "    visit_order = postorder(tree)\n",
    "    π₀ = collect(values(base_freq)) # The equilibrium frequency at the root\n",
    "    \n",
    "    L = Dict{Int64, Array{Float64}}()  ## Lᵢ is the vector conditional proability.\n",
    "\n",
    "    #food = Dict(7 => 1, 6 => 2, 5 => 3, 9 => 4, 8 => 5, 3 => 8, 1 => 0, 2 => 6, 4 => 6, )\n",
    "\n",
    "    for i in visit_order\n",
    "        if isleaf(tree, i)\n",
    "            L[i] = dna_to_vec(node_data[i])\n",
    "        else\n",
    "            branches = tree.nodes[i].out\n",
    "            res = zeros(4, length(branches))\n",
    "            \n",
    "            for (idx, j) in enumerate(branches)\n",
    "                branch_length = tree.branches[j].length\n",
    "                #branch_length = bl[j]\n",
    "                child_node = tree.branches[j].target\n",
    "                \n",
    "                res[:,idx] = P(mod, branch_length) * L[child_node]\n",
    "            end\n",
    "            \n",
    "            L[i] = prod(res, 2)      \n",
    "        end\n",
    "    end\n",
    "    root = findroots(tree)[1]\n",
    "    logL = log(sum(L[root] .* π₀))\n",
    "    \n",
    "    return(logL)\n",
    "end"
   ]
  },
  {
   "cell_type": "code",
   "execution_count": 614,
   "metadata": {},
   "outputs": [],
   "source": [
    "s = open(\"primates.dna\") do file\n",
    "    read(file, String)\n",
    "end\n",
    "s = split(s, \"\\n\")\n",
    "s = s[2:end-1];"
   ]
  },
  {
   "cell_type": "code",
   "execution_count": 616,
   "metadata": {},
   "outputs": [
    {
     "data": {
      "text/plain": [
       "14-element Array{SubString{String},1}:\n",
       " \"Mouse\"     \n",
       " \"Bovine\"    \n",
       " \"Lemur\"     \n",
       " \"Tarsier\"   \n",
       " \"Squir Monk\"\n",
       " \"Jpn Macaq\" \n",
       " \"Rhesus Mac\"\n",
       " \"Crab-E.Mac\"\n",
       " \"BarbMacaq\" \n",
       " \"Gibbon\"    \n",
       " \"Orang\"     \n",
       " \"Gorilla\"   \n",
       " \"Chimp\"     \n",
       " \"Human\"     "
      ]
     },
     "execution_count": 616,
     "metadata": {},
     "output_type": "execute_result"
    }
   ],
   "source": [
    "species = [strip(x[1:10]) for x in  s[1:14]]"
   ]
  },
  {
   "cell_type": "code",
   "execution_count": 668,
   "metadata": {},
   "outputs": [
    {
     "data": {
      "image/svg+xml": [
       "<?xml version=\"1.0\" encoding=\"utf-8\"?>\n",
       "<svg xmlns=\"http://www.w3.org/2000/svg\" xmlns:xlink=\"http://www.w3.org/1999/xlink\" width=\"600\" height=\"400\" viewBox=\"0 0 600 400\">\n",
       "<defs>\n",
       "  <clipPath id=\"clip4300\">\n",
       "    <rect x=\"0\" y=\"0\" width=\"600\" height=\"400\"/>\n",
       "  </clipPath>\n",
       "</defs>\n",
       "<polygon clip-path=\"url(#clip4300)\" points=\"\n",
       "0,400 600,400 600,0 0,0 \n",
       "  \" fill=\"#ffffff\" fill-opacity=\"1\"/>\n",
       "<defs>\n",
       "  <clipPath id=\"clip4301\">\n",
       "    <rect x=\"120\" y=\"0\" width=\"421\" height=\"400\"/>\n",
       "  </clipPath>\n",
       "</defs>\n",
       "<polygon clip-path=\"url(#clip4300)\" points=\"\n",
       "19.685,375.869 580.315,375.869 580.315,11.811 19.685,11.811 \n",
       "  \" fill=\"#ffffff\" fill-opacity=\"1\"/>\n",
       "<defs>\n",
       "  <clipPath id=\"clip4302\">\n",
       "    <rect x=\"19\" y=\"11\" width=\"562\" height=\"365\"/>\n",
       "  </clipPath>\n",
       "</defs>\n",
       "<polyline clip-path=\"url(#clip4302)\" style=\"stroke:#000000; stroke-width:0.5; stroke-opacity:0.1; fill:none\" points=\"\n",
       "  31.2448,375.869 31.2448,11.811 \n",
       "  \"/>\n",
       "<polyline clip-path=\"url(#clip4302)\" style=\"stroke:#000000; stroke-width:0.5; stroke-opacity:0.1; fill:none\" points=\"\n",
       "  146.843,375.869 146.843,11.811 \n",
       "  \"/>\n",
       "<polyline clip-path=\"url(#clip4302)\" style=\"stroke:#000000; stroke-width:0.5; stroke-opacity:0.1; fill:none\" points=\"\n",
       "  262.441,375.869 262.441,11.811 \n",
       "  \"/>\n",
       "<polyline clip-path=\"url(#clip4302)\" style=\"stroke:#000000; stroke-width:0.5; stroke-opacity:0.1; fill:none\" points=\"\n",
       "  378.039,375.869 378.039,11.811 \n",
       "  \"/>\n",
       "<polyline clip-path=\"url(#clip4302)\" style=\"stroke:#000000; stroke-width:0.5; stroke-opacity:0.1; fill:none\" points=\"\n",
       "  493.637,375.869 493.637,11.811 \n",
       "  \"/>\n",
       "<polyline clip-path=\"url(#clip4300)\" style=\"stroke:#000000; stroke-width:1; stroke-opacity:1; fill:none\" points=\"\n",
       "  19.685,375.869 580.315,375.869 \n",
       "  \"/>\n",
       "<polyline clip-path=\"url(#clip4300)\" style=\"stroke:#000000; stroke-width:1; stroke-opacity:1; fill:none\" points=\"\n",
       "  19.685,375.869 19.685,11.811 \n",
       "  \"/>\n",
       "<polyline clip-path=\"url(#clip4300)\" style=\"stroke:#000000; stroke-width:1; stroke-opacity:1; fill:none\" points=\"\n",
       "  31.2448,375.869 31.2448,370.408 \n",
       "  \"/>\n",
       "<polyline clip-path=\"url(#clip4300)\" style=\"stroke:#000000; stroke-width:1; stroke-opacity:1; fill:none\" points=\"\n",
       "  146.843,375.869 146.843,370.408 \n",
       "  \"/>\n",
       "<polyline clip-path=\"url(#clip4300)\" style=\"stroke:#000000; stroke-width:1; stroke-opacity:1; fill:none\" points=\"\n",
       "  262.441,375.869 262.441,370.408 \n",
       "  \"/>\n",
       "<polyline clip-path=\"url(#clip4300)\" style=\"stroke:#000000; stroke-width:1; stroke-opacity:1; fill:none\" points=\"\n",
       "  378.039,375.869 378.039,370.408 \n",
       "  \"/>\n",
       "<polyline clip-path=\"url(#clip4300)\" style=\"stroke:#000000; stroke-width:1; stroke-opacity:1; fill:none\" points=\"\n",
       "  493.637,375.869 493.637,370.408 \n",
       "  \"/>\n",
       "<g clip-path=\"url(#clip4300)\">\n",
       "<text style=\"fill:#000000; fill-opacity:1; font-family:Arial,Helvetica Neue,Helvetica,sans-serif; font-size:12; text-anchor:middle;\" transform=\"rotate(0, 31.2448, 389.669)\" x=\"31.2448\" y=\"389.669\">0</text>\n",
       "</g>\n",
       "<g clip-path=\"url(#clip4300)\">\n",
       "<text style=\"fill:#000000; fill-opacity:1; font-family:Arial,Helvetica Neue,Helvetica,sans-serif; font-size:12; text-anchor:middle;\" transform=\"rotate(0, 146.843, 389.669)\" x=\"146.843\" y=\"389.669\">10</text>\n",
       "</g>\n",
       "<g clip-path=\"url(#clip4300)\">\n",
       "<text style=\"fill:#000000; fill-opacity:1; font-family:Arial,Helvetica Neue,Helvetica,sans-serif; font-size:12; text-anchor:middle;\" transform=\"rotate(0, 262.441, 389.669)\" x=\"262.441\" y=\"389.669\">20</text>\n",
       "</g>\n",
       "<g clip-path=\"url(#clip4300)\">\n",
       "<text style=\"fill:#000000; fill-opacity:1; font-family:Arial,Helvetica Neue,Helvetica,sans-serif; font-size:12; text-anchor:middle;\" transform=\"rotate(0, 378.039, 389.669)\" x=\"378.039\" y=\"389.669\">30</text>\n",
       "</g>\n",
       "<g clip-path=\"url(#clip4300)\">\n",
       "<text style=\"fill:#000000; fill-opacity:1; font-family:Arial,Helvetica Neue,Helvetica,sans-serif; font-size:12; text-anchor:middle;\" transform=\"rotate(0, 493.637, 389.669)\" x=\"493.637\" y=\"389.669\">40</text>\n",
       "</g>\n",
       "<polyline clip-path=\"url(#clip4302)\" style=\"stroke:#000000; stroke-width:1; stroke-opacity:1; fill:none\" points=\"\n",
       "  46.0721,274.742 31.2448,274.742 31.2448,193.84 \n",
       "  \"/>\n",
       "<polyline clip-path=\"url(#clip4302)\" style=\"stroke:#000000; stroke-width:1; stroke-opacity:1; fill:none\" points=\"\n",
       "  57.6353,99.4545 31.2448,99.4545 31.2448,193.84 \n",
       "  \"/>\n",
       "<polyline clip-path=\"url(#clip4302)\" style=\"stroke:#000000; stroke-width:1; stroke-opacity:1; fill:none\" points=\"\n",
       "  122.161,328.676 46.0721,328.676 46.0721,274.742 \n",
       "  \"/>\n",
       "<polyline clip-path=\"url(#clip4302)\" style=\"stroke:#000000; stroke-width:1; stroke-opacity:1; fill:none\" points=\"\n",
       "  52.8888,234.291 46.0721,234.291 46.0721,274.742 \n",
       "  \"/>\n",
       "<polyline clip-path=\"url(#clip4302)\" style=\"stroke:#000000; stroke-width:1; stroke-opacity:1; fill:none\" points=\"\n",
       "  66.3675,126.422 57.6353,126.422 57.6353,99.4545 \n",
       "  \"/>\n",
       "<polyline clip-path=\"url(#clip4302)\" style=\"stroke:#000000; stroke-width:1; stroke-opacity:1; fill:none\" points=\"\n",
       "  93.2084,59.0037 57.6353,59.0037 57.6353,99.4545 \n",
       "  \"/>\n",
       "<polyline clip-path=\"url(#clip4302)\" style=\"stroke:#000000; stroke-width:1; stroke-opacity:1; fill:none\" points=\"\n",
       "  199.768,355.643 122.161,355.643 122.161,328.676 \n",
       "  \"/>\n",
       "<polyline clip-path=\"url(#clip4302)\" style=\"stroke:#000000; stroke-width:1; stroke-opacity:1; fill:none\" points=\"\n",
       "  470.136,315.192 122.161,315.192 122.161,328.676 \n",
       "  \"/>\n",
       "<polyline clip-path=\"url(#clip4302)\" style=\"stroke:#000000; stroke-width:1; stroke-opacity:1; fill:none\" points=\"\n",
       "  69.4425,261.258 52.8888,261.258 52.8888,234.291 \n",
       "  \"/>\n",
       "<polyline clip-path=\"url(#clip4302)\" style=\"stroke:#000000; stroke-width:1; stroke-opacity:1; fill:none\" points=\"\n",
       "  124.21,220.807 52.8888,220.807 52.8888,234.291 \n",
       "  \"/>\n",
       "<polyline clip-path=\"url(#clip4302)\" style=\"stroke:#000000; stroke-width:1; stroke-opacity:1; fill:none\" points=\"\n",
       "  90.6047,153.389 66.3675,153.389 66.3675,126.422 \n",
       "  \"/>\n",
       "<polyline clip-path=\"url(#clip4302)\" style=\"stroke:#000000; stroke-width:1; stroke-opacity:1; fill:none\" points=\"\n",
       "  90.8095,112.938 66.3675,112.938 66.3675,126.422 \n",
       "  \"/>\n",
       "<polyline clip-path=\"url(#clip4302)\" style=\"stroke:#000000; stroke-width:1; stroke-opacity:1; fill:none\" points=\"\n",
       "  122.773,72.4873 93.2084,72.4873 93.2084,59.0037 \n",
       "  \"/>\n",
       "<polyline clip-path=\"url(#clip4302)\" style=\"stroke:#000000; stroke-width:1; stroke-opacity:1; fill:none\" points=\"\n",
       "  102.576,59.0037 93.2084,59.0037 \n",
       "  \"/>\n",
       "<polyline clip-path=\"url(#clip4302)\" style=\"stroke:#000000; stroke-width:1; stroke-opacity:1; fill:none\" points=\"\n",
       "  243.819,369.127 199.768,369.127 199.768,355.643 \n",
       "  \"/>\n",
       "<polyline clip-path=\"url(#clip4302)\" style=\"stroke:#000000; stroke-width:1; stroke-opacity:1; fill:none\" points=\"\n",
       "  235.567,355.643 199.768,355.643 \n",
       "  \"/>\n",
       "<polyline clip-path=\"url(#clip4302)\" style=\"stroke:#000000; stroke-width:1; stroke-opacity:1; fill:none\" points=\"\n",
       "  479.151,328.676 470.136,328.676 470.136,315.192 \n",
       "  \"/>\n",
       "<polyline clip-path=\"url(#clip4302)\" style=\"stroke:#000000; stroke-width:1; stroke-opacity:1; fill:none\" points=\"\n",
       "  568.755,315.192 470.136,315.192 \n",
       "  \"/>\n",
       "<polyline clip-path=\"url(#clip4302)\" style=\"stroke:#000000; stroke-width:1; stroke-opacity:1; fill:none\" points=\"\n",
       "  217.137,274.742 69.4425,274.742 69.4425,261.258 \n",
       "  \"/>\n",
       "<polyline clip-path=\"url(#clip4302)\" style=\"stroke:#000000; stroke-width:1; stroke-opacity:1; fill:none\" points=\"\n",
       "  95.1774,261.258 69.4425,261.258 \n",
       "  \"/>\n",
       "<polyline clip-path=\"url(#clip4302)\" style=\"stroke:#000000; stroke-width:1; stroke-opacity:1; fill:none\" points=\"\n",
       "  160.683,234.291 124.21,234.291 124.21,220.807 \n",
       "  \"/>\n",
       "<polyline clip-path=\"url(#clip4302)\" style=\"stroke:#000000; stroke-width:1; stroke-opacity:1; fill:none\" points=\"\n",
       "  152.51,220.807 124.21,220.807 \n",
       "  \"/>\n",
       "<polyline clip-path=\"url(#clip4302)\" style=\"stroke:#000000; stroke-width:1; stroke-opacity:1; fill:none\" points=\"\n",
       "  121.426,166.873 90.6047,166.873 90.6047,153.389 \n",
       "  \"/>\n",
       "<polyline clip-path=\"url(#clip4302)\" style=\"stroke:#000000; stroke-width:1; stroke-opacity:1; fill:none\" points=\"\n",
       "  98.5944,153.389 90.6047,153.389 \n",
       "  \"/>\n",
       "<polyline clip-path=\"url(#clip4302)\" style=\"stroke:#000000; stroke-width:1; stroke-opacity:1; fill:none\" points=\"\n",
       "  208.328,126.422 90.8095,126.422 90.8095,112.938 \n",
       "  \"/>\n",
       "<polyline clip-path=\"url(#clip4302)\" style=\"stroke:#000000; stroke-width:1; stroke-opacity:1; fill:none\" points=\"\n",
       "  97.0881,112.938 90.8095,112.938 \n",
       "  \"/>\n",
       "</svg>\n"
      ]
     },
     "execution_count": 668,
     "metadata": {},
     "output_type": "execute_result"
    }
   ],
   "source": [
    "tree = treerand(13)\n",
    "plot(tree)"
   ]
  },
  {
   "cell_type": "code",
   "execution_count": null,
   "metadata": {},
   "outputs": [],
   "source": []
  },
  {
   "cell_type": "code",
   "execution_count": 662,
   "metadata": {},
   "outputs": [],
   "source": [
    "data = [s[i:i+13] for i in [1, 16, 31, 46]]\n",
    "\n",
    "dna = Dict()\n",
    "for i in 1:14\n",
    "    m = join([x[i] for x in data])\n",
    "    \n",
    "    species = strip(m[1:10])\n",
    "    \n",
    "    sequence = replace(m[11:end], \" \", \"\")\n",
    "    dna[species] = convert(BioSequence{DNAAlphabet{4}}, sequence)\n",
    "end"
   ]
  },
  {
   "cell_type": "code",
   "execution_count": 673,
   "metadata": {},
   "outputs": [],
   "source": [
    "node_data = Dict(node => dna[5] for (node, dna) in zip(findleaves(tree), values(dna)));"
   ]
  },
  {
   "cell_type": "code",
   "execution_count": 687,
   "metadata": {},
   "outputs": [
    {
     "data": {
      "text/html": [
       "-19.41030856794757"
      ],
      "text/plain": [
       "-19.41030856794757"
      ]
     },
     "execution_count": 687,
     "metadata": {},
     "output_type": "execute_result"
    },
    {
     "name": "stdout",
     "output_type": "stream",
     "text": [
      "  0.000393 seconds (735 allocations: 143.172 KiB)\n"
     ]
    }
   ],
   "source": [
    "@time logLik(tree, [1,2,3], node_data, base_freq, mod)"
   ]
  },
  {
   "cell_type": "code",
   "execution_count": 547,
   "metadata": {},
   "outputs": [
    {
     "data": {
      "text/plain": [
       "foo (generic function with 2 methods)"
      ]
     },
     "execution_count": 547,
     "metadata": {},
     "output_type": "execute_result"
    }
   ],
   "source": [
    "function foo(bl)\n",
    "    res = logLik(tree, bl, node_data, base_freq)\n",
    "    \n",
    "    return(res)\n",
    "end\n",
    "    "
   ]
  },
  {
   "cell_type": "code",
   "execution_count": 533,
   "metadata": {},
   "outputs": [],
   "source": [
    "g = bl -> ForwardDiff.gradient(foo, bl);"
   ]
  },
  {
   "cell_type": "code",
   "execution_count": 584,
   "metadata": {},
   "outputs": [
    {
     "name": "stderr",
     "output_type": "stream",
     "text": [
      "\u001b[1m\u001b[36mINFO: \u001b[39m\u001b[22m\u001b[36mPrecompiling module JuMP.\n",
      "\u001b[39mWARNING: using JuMP.SOCConstraint in module Main conflicts with an existing identifier.\n",
      "WARNING: using JuMP.Variable in module Main conflicts with an existing identifier.\n"
     ]
    }
   ],
   "source": [
    "using Convex, SCS\n",
    "using Clp, JuMP"
   ]
  },
  {
   "cell_type": "code",
   "execution_count": null,
   "metadata": {},
   "outputs": [],
   "source": []
  },
  {
   "cell_type": "code",
   "execution_count": null,
   "metadata": {},
   "outputs": [],
   "source": []
  },
  {
   "cell_type": "code",
   "execution_count": 585,
   "metadata": {},
   "outputs": [
    {
     "data": {
      "text/latex": [
       "$$ \\begin{alignat*}{1}\\min\\quad & 0\\\\\n",
       "\\text{Subject to} \\quad\\end{alignat*}\n",
       " $$"
      ],
      "text/plain": [
       "Feasibility problem with:\n",
       " * 0 linear constraints\n",
       " * 0 variables\n",
       "Solver is ClpMathProg"
      ]
     },
     "execution_count": 585,
     "metadata": {},
     "output_type": "execute_result"
    }
   ],
   "source": [
    "m = Model(solver = ClpSolver())"
   ]
  },
  {
   "cell_type": "code",
   "execution_count": 580,
   "metadata": {},
   "outputs": [
    {
     "ename": "LoadError",
     "evalue": "\u001b[91mMethodError: no method matching P_generic(::SubstitutionModels.K80rel, ::Convex.IndexAtom)\u001b[0m\nClosest candidates are:\n  P_generic(::SubstitutionModels.NucleicAcidSubstitutionModel, \u001b[91m::Float64\u001b[39m) at C:\\Users\\bjorn\\.julia\\v0.6\\SubstitutionModels\\src\\nucleic_acid/nucleic_acid.jl:48\n  P_generic(::SubstitutionModels.NucleicAcidSubstitutionModel, \u001b[91m::Array{Float64,N} where N\u001b[39m) at C:\\Users\\bjorn\\.julia\\v0.6\\SubstitutionModels\\src\\nucleic_acid/nucleic_acid.jl:56\u001b[39m",
     "output_type": "error",
     "traceback": [
      "\u001b[91mMethodError: no method matching P_generic(::SubstitutionModels.K80rel, ::Convex.IndexAtom)\u001b[0m\nClosest candidates are:\n  P_generic(::SubstitutionModels.NucleicAcidSubstitutionModel, \u001b[91m::Float64\u001b[39m) at C:\\Users\\bjorn\\.julia\\v0.6\\SubstitutionModels\\src\\nucleic_acid/nucleic_acid.jl:48\n  P_generic(::SubstitutionModels.NucleicAcidSubstitutionModel, \u001b[91m::Array{Float64,N} where N\u001b[39m) at C:\\Users\\bjorn\\.julia\\v0.6\\SubstitutionModels\\src\\nucleic_acid/nucleic_acid.jl:56\u001b[39m",
      "",
      "Stacktrace:",
      " [1] \u001b[1mlogLik\u001b[22m\u001b[22m\u001b[1m(\u001b[22m\u001b[22m::PhyloTrees.Tree, ::Convex.Variable, ::Dict{Int64,BioSymbols.DNA}, ::Dict{BioSymbols.DNA,Float64}, ::SubstitutionModels.K80rel\u001b[1m)\u001b[22m\u001b[22m at \u001b[1m.\\In[565]:27\u001b[22m\u001b[22m"
     ]
    }
   ],
   "source": [
    "bl = [0.2, 0.2, 0.1, 0.1, 0.2, 0.2, 0.2, 0.1]\n",
    "#bl = reshape(bl, 8, 1)\n",
    "\n",
    "x = Variable(8, :Float64)\n",
    "problem = Convex.maximize(logLik(tree, x, node_data, base_freq, mod), [x >= 0])"
   ]
  },
  {
   "cell_type": "code",
   "execution_count": 540,
   "metadata": {},
   "outputs": [
    {
     "ename": "LoadError",
     "evalue": "DomainError:\nsqrt will only return a complex result if called with a complex argument. Try sqrt(complex(x)).",
     "output_type": "error",
     "traceback": [
      "DomainError:\nsqrt will only return a complex result if called with a complex argument. Try sqrt(complex(x)).",
      "",
      "Stacktrace:",
      " [1] \u001b[1msqrt\u001b[22m\u001b[22m at \u001b[1mC:\\Users\\bjorn\\.julia\\v0.6\\ForwardDiff\\src\\dual.jl:167\u001b[22m\u001b[22m [inlined]",
      " [2] \u001b[1m_mapreduce\u001b[22m\u001b[22m\u001b[1m(\u001b[22m\u001b[22m::Base.#sqrt, ::Base.#+, ::IndexLinear, ::Array{ForwardDiff.Dual{ForwardDiff.Tag{#foo,Float64},Float64,8},1}\u001b[1m)\u001b[22m\u001b[22m at \u001b[1m.\\reduce.jl:276\u001b[22m\u001b[22m",
      " [3] \u001b[1mfoo\u001b[22m\u001b[22m\u001b[1m(\u001b[22m\u001b[22m::Array{ForwardDiff.Dual{ForwardDiff.Tag{#foo,Float64},Float64,8},1}\u001b[1m)\u001b[22m\u001b[22m at \u001b[1m.\\In[459]:1\u001b[22m\u001b[22m",
      " [4] \u001b[1mvector_mode_gradient\u001b[22m\u001b[22m at \u001b[1mC:\\Users\\bjorn\\.julia\\v0.6\\ForwardDiff\\src\\gradient.jl:96\u001b[22m\u001b[22m [inlined]",
      " [5] \u001b[1mgradient\u001b[22m\u001b[22m\u001b[1m(\u001b[22m\u001b[22m::Function, ::Array{Float64,1}, ::ForwardDiff.GradientConfig{ForwardDiff.Tag{#foo,Float64},Float64,8,Array{ForwardDiff.Dual{ForwardDiff.Tag{#foo,Float64},Float64,8},1}}, ::Val{true}\u001b[1m)\u001b[22m\u001b[22m at \u001b[1mC:\\Users\\bjorn\\.julia\\v0.6\\ForwardDiff\\src\\gradient.jl:17\u001b[22m\u001b[22m",
      " [6] \u001b[1m(::##79#80)\u001b[22m\u001b[22m\u001b[1m(\u001b[22m\u001b[22m::Array{Float64,1}\u001b[1m)\u001b[22m\u001b[22m at \u001b[1m.\\In[533]:1\u001b[22m\u001b[22m",
      " [7] \u001b[1mmacro expansion\u001b[22m\u001b[22m at \u001b[1m.\\In[540]:4\u001b[22m\u001b[22m [inlined]",
      " [8] \u001b[1manonymous\u001b[22m\u001b[22m at \u001b[1m.\\<missing>:?\u001b[22m\u001b[22m"
     ]
    },
    {
     "name": "stdout",
     "output_type": "stream",
     "text": [
      "[0.190199, 0.190199, 0.0900498, 0.0900498, 0.190199, 0.190199, 0.190199, 0.0900498]\n",
      "[0.18038, 0.18038, 0.0800903, 0.0800903, 0.18038, 0.18038, 0.18038, 0.0800903]\n",
      "[0.170542, 0.170542, 0.0701223, 0.0701223, 0.170542, 0.170542, 0.170542, 0.0701223]\n",
      "[0.160687, 0.160687, 0.0601469, 0.0601469, 0.160687, 0.160687, 0.160687, 0.0601469]\n",
      "[0.150816, 0.150816, 0.0501649, 0.0501649, 0.150816, 0.150816, 0.150816, 0.0501649]\n",
      "[0.140929, 0.140929, 0.0401775, 0.0401775, 0.140929, 0.140929, 0.140929, 0.0401775]\n",
      "[0.131028, 0.131028, 0.0301856, 0.0301856, 0.131028, 0.131028, 0.131028, 0.0301856]\n",
      "[0.121114, 0.121114, 0.0201901, 0.0201901, 0.121114, 0.121114, 0.121114, 0.0201901]\n",
      "[0.111187, 0.111187, 0.0101922, 0.0101922, 0.111187, 0.111187, 0.111187, 0.0101922]\n",
      "[0.101249, 0.101249, 0.000192682, 0.000192682, 0.101249, 0.101249, 0.101249, 0.000192682]\n",
      "[0.0913003, 0.0913003, -0.00980732, -0.00980732, 0.0913003, 0.0913003, 0.0913003, -0.00980732]\n"
     ]
    }
   ],
   "source": [
    "bl = [0.2, 0.2, 0.1, 0.1, 0.2, 0.2, 0.2, 0.1]\n",
    "for i in 1:100\n",
    "    \n",
    "    bl = bl .- 0.01*g(bl)\n",
    "    println(bl)\n",
    "end"
   ]
  },
  {
   "cell_type": "code",
   "execution_count": 538,
   "metadata": {},
   "outputs": [
    {
     "ename": "LoadError",
     "evalue": "DomainError:",
     "output_type": "error",
     "traceback": [
      "DomainError:",
      "",
      "Stacktrace:",
      " [1] \u001b[1m_mapreduce\u001b[22m\u001b[22m\u001b[1m(\u001b[22m\u001b[22m::Base.#sqrt, ::Base.#+, ::IndexLinear, ::Array{Float64,1}\u001b[1m)\u001b[22m\u001b[22m at \u001b[1m.\\reduce.jl:276\u001b[22m\u001b[22m",
      " [2] \u001b[1mfoo\u001b[22m\u001b[22m\u001b[1m(\u001b[22m\u001b[22m::Array{Float64,1}\u001b[1m)\u001b[22m\u001b[22m at \u001b[1m.\\In[459]:1\u001b[22m\u001b[22m"
     ]
    }
   ],
   "source": [
    "foo(bl)"
   ]
  },
  {
   "cell_type": "code",
   "execution_count": 539,
   "metadata": {},
   "outputs": [
    {
     "data": {
      "text/plain": [
       "8-element Array{Float64,1}:\n",
       "  3.59457e9\n",
       "  3.59457e9\n",
       " -1.66668e8\n",
       " -1.66668e8\n",
       "  3.59457e9\n",
       "  3.59457e9\n",
       "  3.59457e9\n",
       " -1.66668e8"
      ]
     },
     "execution_count": 539,
     "metadata": {},
     "output_type": "execute_result"
    }
   ],
   "source": [
    "bl"
   ]
  },
  {
   "cell_type": "code",
   "execution_count": 530,
   "metadata": {},
   "outputs": [
    {
     "ename": "LoadError",
     "evalue": "\u001b[91mtype Branch is immutable\u001b[39m",
     "output_type": "error",
     "traceback": [
      "\u001b[91mtype Branch is immutable\u001b[39m",
      ""
     ]
    }
   ],
   "source": [
    "#changelength!(tree2, 2, 5.0)\n",
    "tree2.branches[2].length = 0.2"
   ]
  },
  {
   "cell_type": "code",
   "execution_count": 519,
   "metadata": {},
   "outputs": [
    {
     "ename": "LoadError",
     "evalue": "\u001b[91mtype is immutable\u001b[39m",
     "output_type": "error",
     "traceback": [
      "\u001b[91mtype is immutable\u001b[39m",
      "",
      "Stacktrace:",
      " [1] \u001b[1msetlength!\u001b[22m\u001b[22m\u001b[1m(\u001b[22m\u001b[22m::PhyloTrees.Tree, ::Int64, ::Float64\u001b[1m)\u001b[22m\u001b[22m at \u001b[1mC:\\Users\\bjorn\\.julia\\v0.6\\PhyloTrees\\src\\construction.jl:232\u001b[22m\u001b[22m",
      " [2] \u001b[1mmacro expansion\u001b[22m\u001b[22m at \u001b[1m.\\In[519]:4\u001b[22m\u001b[22m [inlined]",
      " [3] \u001b[1manonymous\u001b[22m\u001b[22m at \u001b[1m.\\<missing>:?\u001b[22m\u001b[22m"
     ]
    }
   ],
   "source": [
    "tree2 = tree\n",
    "\n",
    "for (idx, (k, v)) in enumerate(tree2.branches)\n",
    "    setlength!(tree2, k, bl[idx])\n",
    "end\n",
    "\n",
    "plot(tree2)"
   ]
  },
  {
   "cell_type": "code",
   "execution_count": 447,
   "metadata": {},
   "outputs": [
    {
     "data": {
      "text/html": [
       "-6.793810057551627"
      ],
      "text/plain": [
       "-6.793810057551627"
      ]
     },
     "execution_count": 447,
     "metadata": {},
     "output_type": "execute_result"
    },
    {
     "name": "stdout",
     "output_type": "stream",
     "text": [
      "  0.000196 seconds (259 allocations: 39.906 KiB)\n"
     ]
    }
   ],
   "source": [
    "@time logLik(tree, node_data, base_freq)"
   ]
  },
  {
   "cell_type": "code",
   "execution_count": null,
   "metadata": {},
   "outputs": [],
   "source": []
  },
  {
   "cell_type": "code",
   "execution_count": 422,
   "metadata": {},
   "outputs": [
    {
     "data": {
      "text/html": [
       "0.0011206907333674839"
      ],
      "text/plain": [
       "0.0011206907333674839"
      ]
     },
     "execution_count": 422,
     "metadata": {},
     "output_type": "execute_result"
    }
   ],
   "source": [
    "sum(L[1] .* X₀)\n",
    "tree.branches[1].length"
   ]
  },
  {
   "cell_type": "code",
   "execution_count": 456,
   "metadata": {},
   "outputs": [
    {
     "name": "stderr",
     "output_type": "stream",
     "text": [
      "\u001b[1m\u001b[36mINFO: \u001b[39m\u001b[22m\u001b[36mRecompiling stale cache file C:\\Users\\bjorn\\.julia\\lib\\v0.6\\DiffResults.ji for module DiffResults.\n",
      "\u001b[39m\u001b[1m\u001b[36mINFO: \u001b[39m\u001b[22m\u001b[36mRecompiling stale cache file C:\\Users\\bjorn\\.julia\\lib\\v0.6\\ForwardDiff.ji for module ForwardDiff.\n",
      "\u001b[39m"
     ]
    }
   ],
   "source": [
    "using ForwardDiff"
   ]
  },
  {
   "cell_type": "code",
   "execution_count": 453,
   "metadata": {},
   "outputs": [
    {
     "data": {
      "text/html": [
       "0.1"
      ],
      "text/plain": [
       "0.1"
      ]
     },
     "execution_count": 453,
     "metadata": {},
     "output_type": "execute_result"
    }
   ],
   "source": []
  },
  {
   "cell_type": "code",
   "execution_count": 459,
   "metadata": {},
   "outputs": [],
   "source": [
    "foo(x::Vector) = sum(sin, x) + prod(tan, x) * sum(sqrt, x);"
   ]
  },
  {
   "cell_type": "code",
   "execution_count": 465,
   "metadata": {},
   "outputs": [],
   "source": [
    "g = x -> ForwardDiff.gradient(foo, x);"
   ]
  },
  {
   "cell_type": "code",
   "execution_count": 467,
   "metadata": {},
   "outputs": [
    {
     "data": {
      "text/plain": [
       "5-element Array{Float64,1}:\n",
       " 0.0444268\n",
       " 0.260791 \n",
       " 0.718988 \n",
       " 0.891581 \n",
       " 0.734389 "
      ]
     },
     "execution_count": 467,
     "metadata": {},
     "output_type": "execute_result"
    }
   ],
   "source": [
    "x = rand(5)"
   ]
  },
  {
   "cell_type": "code",
   "execution_count": 471,
   "metadata": {},
   "outputs": [
    {
     "data": {
      "text/plain": [
       "5-element Array{Float64,1}:\n",
       " 1.90873 \n",
       " 1.13467 \n",
       " 0.838297\n",
       " 0.714412\n",
       " 0.827706"
      ]
     },
     "execution_count": 471,
     "metadata": {},
     "output_type": "execute_result"
    },
    {
     "name": "stdout",
     "output_type": "stream",
     "text": [
      "  0.000103 seconds (8 allocations: 912 bytes)\n"
     ]
    }
   ],
   "source": [
    "@time g(x)"
   ]
  },
  {
   "cell_type": "code",
   "execution_count": 473,
   "metadata": {},
   "outputs": [
    {
     "data": {
      "text/html": [
       "2.448220457152205"
      ],
      "text/plain": [
       "2.448220457152205"
      ]
     },
     "execution_count": 473,
     "metadata": {},
     "output_type": "execute_result"
    },
    {
     "name": "stdout",
     "output_type": "stream",
     "text": [
      "  0.000005 seconds (5 allocations: 176 bytes)\n"
     ]
    }
   ],
   "source": [
    "@time foo(x)"
   ]
  },
  {
   "cell_type": "code",
   "execution_count": 480,
   "metadata": {},
   "outputs": [
    {
     "data": {
      "text/plain": [
       "8-element Array{Float64,1}:\n",
       " 0.2\n",
       " 0.2\n",
       " 0.1\n",
       " 0.1\n",
       " 0.2\n",
       " 0.2\n",
       " 0.2\n",
       " 0.1"
      ]
     },
     "execution_count": 480,
     "metadata": {},
     "output_type": "execute_result"
    }
   ],
   "source": []
  },
  {
   "cell_type": "code",
   "execution_count": null,
   "metadata": {},
   "outputs": [],
   "source": []
  },
  {
   "cell_type": "code",
   "execution_count": null,
   "metadata": {},
   "outputs": [],
   "source": [
    "using ProgressMeter"
   ]
  }
 ],
 "metadata": {
  "kernelspec": {
   "display_name": "Julia 0.6.3",
   "language": "julia",
   "name": "julia-0.6"
  },
  "language_info": {
   "file_extension": ".jl",
   "mimetype": "application/julia",
   "name": "julia",
   "version": "0.6.3"
  }
 },
 "nbformat": 4,
 "nbformat_minor": 2
}
